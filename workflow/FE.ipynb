{
 "cells": [
  {
   "cell_type": "code",
   "execution_count": 1,
   "metadata": {},
   "outputs": [
    {
     "name": "stdout",
     "output_type": "stream",
     "text": [
      "/Users/aaditmahajan/Documents/binary-interfaces/workflow\n"
     ]
    }
   ],
   "source": [
    "import pandas as pd \n",
    "import numpy as np\n",
    "import math\n",
    "import matplotlib.pyplot as plt\n",
    "plt.style.use('seaborn-paper')\n",
    "\n",
    "import biopandas.pdb as pandaspdb\n",
    "import os\n",
    "\n",
    "# Read in the data\n",
    "# id = '2zta'            \n",
    "# id = '2m59'\n",
    "# id = '7sk0'    # too many hetatms in this pdb file\n",
    "# id = '7sk1'\n",
    "# id = '1afo' \n",
    "# id = '3cap'\n",
    "# id = '1f88'\n",
    "# id = '3d4i'\n",
    "# id = '1cx8'\n",
    "# id = '7vu5'    \n",
    "# id = '4riw'    # this is not a good model to use (not truly a binary interaction)\n",
    "# id = '3q5w'\n",
    "# id = '2bjn'\n",
    "# id = '6ofj'\n",
    "\n",
    "id = '8GTK'\n",
    "# change if the protein in transmembrane or cytosolic\n",
    "# dielectric constant for transmembrane = 4\n",
    "# dielectric constant for cytosolic = 29\n",
    "\n",
    "DIELEC = 4\n",
    "# DIELEC = 29\n",
    "\n",
    "N_PLANES = 16               # number of planes used to section the protein in the z-axis\n",
    "print(os.getcwd())\n",
    "pdb_file_dir = './pdb_files'\n",
    "interchain_intr_dir = './elec_intr_files'\n",
    "vdw_intr_dir = './vdw_intr_files'\n",
    "\n",
    "interchain_intr = pd.read_csv(os.path.join(interchain_intr_dir, f'elec_intr_{id}.csv'))\n",
    "vdw_intr = pd.read_csv(os.path.join(vdw_intr_dir, f'vdw_intr_{id}.csv'))\n"
   ]
  },
  {
   "cell_type": "code",
   "execution_count": 2,
   "metadata": {},
   "outputs": [],
   "source": [
    "def generate_z_planes(interchain_intr, N_PLANES) -> list[float]:\n",
    "    z_values = []\n",
    "    for i in range(len(interchain_intr)):\n",
    "        z_values.append(interchain_intr.atom1_zcoord.iloc[i])\n",
    "        z_values.append(interchain_intr.atom2_zcoord.iloc[i])\n",
    "\n",
    "    z_values = np.array(z_values)\n",
    "    z_planes = list(np.linspace(z_values.min(), z_values.max(), N_PLANES))\n",
    "    z_planes.sort()\n",
    "    return z_planes"
   ]
  },
  {
   "cell_type": "code",
   "execution_count": 3,
   "metadata": {},
   "outputs": [],
   "source": [
    "def get_blockdet(z_planes, interchain_intr, vdw_intr) -> np.array:\n",
    "    blockdet = []\n",
    "    for i in range(len(interchain_intr)):\n",
    "        z1 = interchain_intr.atom1_zcoord.iloc[i]\n",
    "        z2 = interchain_intr.atom2_zcoord.iloc[i]\n",
    "        z1_idx = np.digitize(z1, z_planes)\n",
    "        z2_idx = np.digitize(z2, z_planes)\n",
    "        res1 = int(interchain_intr.atom1.iloc[i])\n",
    "        res2 = int(interchain_intr.atom2.iloc[i])\n",
    "        if z1_idx == z2_idx:\n",
    "            blockdet.append((res1, res2, z1_idx))\n",
    "        else:\n",
    "            blockdet.append((res1, res2, z2_idx))\n",
    "    \n",
    "    for i in range(len(vdw_intr)):\n",
    "        z1 = vdw_intr.atom1_zcoord.iloc[i]\n",
    "        z2 = vdw_intr.atom2_zcoord.iloc[i]\n",
    "        z1_idx = np.digitize(z1, z_planes)\n",
    "        z2_idx = np.digitize(z2, z_planes)\n",
    "        res1 = int(vdw_intr.atom1.iloc[i])\n",
    "        res2 = int(vdw_intr.atom2.iloc[i])\n",
    "        if z1_idx == z2_idx:\n",
    "            blockdet.append((res1, res2, z1_idx))\n",
    "        else:\n",
    "            blockdet.append((res1, res2, z2_idx))\n",
    "    \n",
    "    blockdet = np.array(list(set(blockdet)))\n",
    "    blockdet = blockdet[blockdet[:, 2].argsort()]\n",
    "    return blockdet\n",
    "\n",
    "blockdet = get_blockdet(generate_z_planes(interchain_intr, N_PLANES), interchain_intr, vdw_intr)"
   ]
  },
  {
   "cell_type": "code",
   "execution_count": 4,
   "metadata": {},
   "outputs": [],
   "source": [
    "def get_vdw_intr_sections(vdw_intr, section_boundaries) -> pd.DataFrame:\n",
    "    \n",
    "    # generate partitions\n",
    "    part_1 = pd.cut(vdw_intr['atom1_zcoord'], bins=section_boundaries, labels=False)\n",
    "    part_2 = pd.cut(vdw_intr['atom2_zcoord'], bins=section_boundaries, labels=False)\n",
    "\n",
    "    # handle nan values \n",
    "    part_1 = part_1.fillna(-1)\n",
    "    part_2 = part_2.fillna(-1)\n",
    "\n",
    "    # assign section number to the atoms if both atoms are in the same section\n",
    "    for i in range(len(vdw_intr)):\n",
    "        p1 = int(part_1.iloc[i])\n",
    "        p2 = int(part_2.iloc[i])\n",
    "\n",
    "        # if p1 == p2, assign the section number to both atoms, else push to section of atom2\n",
    "        if p1 == p2:\n",
    "            vdw_intr.at[i, 'section'] = p1\n",
    "        else:\n",
    "            vdw_intr.at[i, 'section'] = p2\n",
    "    \n",
    "    return vdw_intr\n",
    "\n",
    "def get_interchain_intr_sections(interchain_intr, section_boundaries) -> pd.DataFrame:\n",
    "    p1 = pd.cut(interchain_intr['atom1_zcoord'], bins=section_boundaries, labels=False)\n",
    "    p2 = pd.cut(interchain_intr['atom2_zcoord'], bins=section_boundaries, labels=False)\n",
    "\n",
    "    # handle nan values \n",
    "    p1 = p1.fillna(-1)\n",
    "    p2 = p2.fillna(-1)\n",
    "    \n",
    "    for i in range(len(interchain_intr)):\n",
    "        p1_val = int(p1.iloc[i])\n",
    "        p2_val = int(p2.iloc[i])\n",
    "\n",
    "        # same logic as above. If both atoms are in the same section, assign the section number to both atoms\n",
    "        if p1_val == p2_val:\n",
    "            interchain_intr.at[i, 'section'] = p1_val\n",
    "        else:\n",
    "            interchain_intr.at[i, 'section'] = p2_val\n",
    "\n",
    "    return interchain_intr\n",
    "\n",
    "def calc_elec_intr_energy(interchain_intr, DIELEC) -> pd.DataFrame:\n",
    "    interchain_intr['intene'] = (332*4.184*interchain_intr['atom1_chg']*interchain_intr['atom2_chg'])/(DIELEC*interchain_intr['distance'])\n",
    "    return interchain_intr"
   ]
  },
  {
   "cell_type": "code",
   "execution_count": 5,
   "metadata": {},
   "outputs": [],
   "source": [
    "import numpy as np\n",
    "import pandas as pd\n",
    "\n",
    "def get_sw_values2(master_matrix, elec_intr, vdw_intr, temp) -> pd.DataFrame:\n",
    "    VDW_INT_ENE = -77.75/1000  \n",
    "    DCP = -0.3112/1000  # arbitrary value for now\n",
    "    T_REF = 385\n",
    "    R = 8.314/1000\n",
    "    IS = 0.043\n",
    "    \n",
    "    # Pre-calculate constants\n",
    "    ISfac = 5.66 * np.sqrt(IS/temp) * np.sqrt(80/29)\n",
    "    exp_ISfac = np.exp(-ISfac)\n",
    "    solv_energy_const = DCP * (temp - T_REF) - temp * DCP * np.log(temp/T_REF)\n",
    "    \n",
    "    # Group data\n",
    "    vdw_intr_sec_grp = vdw_intr.groupby('section')\n",
    "    elec_intr_sec_grp = elec_intr.groupby('section')\n",
    "    \n",
    "    # Pre-calculate sums and counts\n",
    "    elec_sums = elec_intr_sec_grp['intene'].sum()\n",
    "    vdw_counts = vdw_intr_sec_grp.size()\n",
    "    \n",
    "    def calculate_sw_partial(row):\n",
    "        if row['type'] == 1:\n",
    "            elems_in_comb = range(int(row['start1']), int(row['end1'])+1)\n",
    "        else:\n",
    "            elems_in_comb = list(range(int(row['start1']), int(row['end1'])+1)) + list(range(int(row['start2']), int(row['end2'])+1))\n",
    "        \n",
    "        elec_intene_tot_part = sum(elec_sums.get(elem, 0) for elem in elems_in_comb)\n",
    "        vdw_counts_part = sum(vdw_counts.get(elem, 0) for elem in elems_in_comb)\n",
    "        \n",
    "        elec_intene_tot_part *= exp_ISfac\n",
    "        vdw_intene_tot_part = vdw_counts_part * VDW_INT_ENE\n",
    "        solv_energy = vdw_counts_part * solv_energy_const\n",
    "        deltaE_part = vdw_intene_tot_part + elec_intene_tot_part + solv_energy\n",
    "        \n",
    "        return np.exp(-(deltaE_part / (R * temp)))\n",
    "    \n",
    "    master_matrix['sw_part'] = master_matrix.apply(calculate_sw_partial, axis=1)\n",
    "    \n",
    "    return master_matrix\n"
   ]
  },
  {
   "cell_type": "code",
   "execution_count": 6,
   "metadata": {},
   "outputs": [],
   "source": [
    "def generate_master_mat(section_boundaries) -> pd.DataFrame:\n",
    "    n = len(section_boundaries) + 1\n",
    "    master_matrix = pd.DataFrame(columns=['struct_elem', 'sw_part', 'start1', 'end1', 'start2', 'end2', 'type'])\n",
    "    for i in range(n):\n",
    "        for j in range(i, n):\n",
    "            if j-i >= 0:\n",
    "                master_matrix.loc[len(master_matrix)] = [j-i, 0, i, j, 0, 0, 1]\n",
    "            for k in range(j, n):\n",
    "                for l in range(k, n):\n",
    "                    if j-i >= 0 and k-j > 1 and l-k >= 0:\n",
    "                        master_matrix.loc[len(master_matrix)] = [(j-i) + (l-k), 0, i, j, k, l, 2]\n",
    "\n",
    "    return master_matrix\n"
   ]
  },
  {
   "cell_type": "code",
   "execution_count": 7,
   "metadata": {},
   "outputs": [],
   "source": [
    "# Boilerplate code\n",
    "\n",
    "VDW_INT_ENE = 0# arbitrary value for now\n",
    "DCP = 0 # arbitrary value for now\n",
    "T_REF = 298\n",
    "min_temp = 278\n",
    "max_temp = 368\n",
    "temp_step = 10\n",
    "R = 8.314/1000\n",
    "\n",
    "g_vecs = pd.DataFrame()\n",
    "\n",
    "# 1. generate z_planes\n",
    "z_planes = generate_z_planes(interchain_intr, N_PLANES)\n",
    "\n",
    "# 2. generate master_matrix\n",
    "master_matrix = generate_master_mat(z_planes)\n",
    "\n",
    "# 3. get sections for vdw_intr\n",
    "vdw_intr = get_vdw_intr_sections(vdw_intr, z_planes)\n",
    "\n",
    "# 4. get sections for elec_intr\n",
    "interchain_intr = get_interchain_intr_sections(interchain_intr, z_planes)\n",
    "\n",
    "# 5. calculate elec_intr_energy\n",
    "interchain_intr = calc_elec_intr_energy(interchain_intr, DIELEC)\n",
    "\n",
    "# 6. get sw_values\n",
    "for temp in range(min_temp, max_temp + temp_step, temp_step):\n",
    "    fin_master_matrix = get_sw_values2(master_matrix, interchain_intr, vdw_intr, temp)\n",
    "    z_part_total = list(fin_master_matrix.groupby('struct_elem').sw_part.sum())\n",
    "    z_total = sum(z_part_total)\n",
    "    p_vec = [i/z_total for i in z_part_total]\n",
    "    g_vec = [-R*temp*math.log(i) for i in p_vec]\n",
    "    g_vecs[temp] = g_vec"
   ]
  },
  {
   "cell_type": "code",
   "execution_count": 8,
   "metadata": {},
   "outputs": [
    {
     "data": {
      "image/png": "[encoded data removed]",
      "text/plain": [
       "<Figure size 640x440 with 1 Axes>"
      ]
     },
     "metadata": {},
     "output_type": "display_data"
    }
   ],
   "source": [
    "def plot_g_vecs(g_vecs, temps, id, save = False):\n",
    "    for temp in temps:\n",
    "        plt.plot(g_vecs[temp])\n",
    "    plt.legend(temps)\n",
    "    plt.title(f'FE curve for PDB ID: {id}')\n",
    "    plt.xlabel('Number of interacting blocks')\n",
    "    plt.ylabel('Free energy (kJ/mol)')\n",
    "    if save:\n",
    "        plt.savefig(f'../plots/FE_curve_{id}.jpg')\n",
    "    plt.show()\n",
    "\n",
    "plot_g_vecs(g_vecs, range(min_temp, max_temp + temp_step, temp_step), id, save = False)\n"
   ]
  },
  {
   "cell_type": "code",
   "execution_count": 9,
   "metadata": {},
   "outputs": [
    {
     "data": {
      "application/vnd.plotly.v1+json": {
       "config": {
        "plotlyServerURL": "https://plot.ly"
       },
       "data": [
        {
         "type": "surface",
         "x": [
          278,
          288,
          298,
          308,
          318,
          328,
          338,
          348,
          358,
          368
         ],
         "y": [
          1,
          2,
          3,
          4,
          5,
          6,
          7,
          8,
          9,
          10,
          11,
          12,
          13,
          14,
          15,
          16
         ],
         "z": [
          [
           154.13103770274805,
           154.74372073610476,
           155.3325085937067,
           155.89884374349876,
           156.4440313722415,
           156.9692574657484,
           157.47560395958635,
           157.9640614978936,
           158.43554022857063,
           158.8908789783522
          ],
          [
           122.82083048001303,
           123.36686257900024,
           123.89367713225946,
           124.40246590249,
           124.89430837458026,
           125.37018607426245,
           125.83099459701614,
           126.27755376621955,
           126.7106162541855,
           127.13087493370367
          ],
          [
           116.06271618414182,
           116.51170470639325,
           116.9437485847342,
           117.35985834418946,
           117.7609477368027,
           118.14784680391351,
           118.52131276249656,
           118.8820391175927,
           119.23066332172056,
           119.56777323920527
          ],
          [
           89.45462696872066,
           89.89635461267986,
           90.32362412234569,
           90.73727028657437,
           91.13805768772528,
           91.52668963732171,
           91.90381550222229,
           92.27003675028331,
           92.62591197431836,
           92.97196109849168
          ],
          [
           58.181131570590594,
           58.5619755980923,
           58.93337212392063,
           59.2958633909351,
           59.64994523711291,
           59.9960734515275,
           60.33466900773366,
           60.66612237975777,
           60.990797107346985,
           61.30903274660444
          ],
          [
           38.464300120562044,
           38.72402674712179,
           38.980604005993555,
           39.23426823537102,
           39.4852292221865,
           39.73367377777697,
           39.97976870862587,
           40.223663296232424,
           40.46549137669077,
           40.705373092539446
          ],
          [
           10.141042127458268,
           10.396480818907808,
           10.650982984248158,
           10.904596735553605,
           11.15736755868311,
           11.409338737879626,
           11.660551676153785,
           11.911046129309405,
           12.160860368904363,
           12.41003128737167
          ],
          [
           6.492232556320529,
           6.695563737203906,
           6.897685336534823,
           7.098680909890938,
           7.29862839023403,
           7.4976008010515995,
           7.695666850527762,
           7.8928914201130205,
           8.089335960665528,
           8.285058808818752
          ],
          [
           4.940717329617961,
           5.101969648617446,
           5.26262001891708,
           5.422719320952384,
           5.582314769895275,
           5.741450380572961,
           5.900167349744312,
           6.058504366210381,
           6.2164978588570605,
           6.3741821921383695
          ],
          [
           3.878514484138694,
           4.012806633337591,
           4.14689525877867,
           4.280798674465432,
           4.414534159577813,
           4.548118083181789,
           4.681566001085144,
           4.814892728601406,
           4.948112392955629,
           5.081238468922097
          ],
          [
           3.609206105656427,
           3.740592022080631,
           3.872141822446685,
           4.003855345443274,
           4.1357323087355065,
           4.267772313242702,
           4.399974846013861,
           4.53233928215819,
           4.66486488632319,
           4.7975508141922925
          ],
          [
           3.647029437250373,
           3.7923968540844797,
           3.9384945871051724,
           4.085289410182854,
           4.232749720068594,
           4.38084536112534,
           4.529547472865839,
           4.678828359778629,
           4.8286613824285824,
           4.979020868444603
          ],
          [
           4.584107754784654,
           4.763151551931523,
           4.942913120806119,
           5.123356029834836,
           5.304445035602803,
           5.486145922099027,
           5.668425373792745,
           5.8512508810721355,
           6.03459067577157,
           6.218413693925424
          ],
          [
           6.18607663982506,
           6.4227044249156435,
           6.660034960951999,
           6.8980284905160625,
           7.136646149305448,
           7.375849857565984,
           7.615602254606835,
           7.855866672530691,
           8.096607144420155,
           8.337788441679875
          ],
          [
           28.90554164845272,
           29.1052042487986,
           29.307300587949864,
           29.51191420952171,
           29.71911750460742,
           29.92897361512015,
           30.141537941304215,
           30.356859333685833,
           30.57498103297378,
           30.795941408602896
          ],
          [
           30.50760718170366,
           30.764898038641597,
           31.024622634385356,
           31.28686451255067,
           31.551696064231894,
           31.819180431344254,
           32.08937301413589,
           32.36232266313984,
           32.63807261907665,
           32.91666125140079
          ],
          [
           122.97652209652911,
           123.42335791355892,
           123.86336415409068,
           124.29736020659449,
           124.7260746857871,
           125.15015810747619,
           125.57019343547435,
           125.98670490109086,
           126.40016541245805,
           126.81100280687313
          ]
         ]
        }
       ],
       "layout": {
        "autosize": false,
        "height": 750,
        "margin": {
         "b": 65,
         "l": 65,
         "r": 50,
         "t": 90
        },
        "scene": {
         "xaxis": {
          "title": {
           "text": "Temperature (K)"
          }
         },
         "yaxis": {
          "title": {
           "text": "Structured Elems"
          }
         },
         "zaxis": {
          "title": {
           "text": "Free Energy (kJ/mol)"
          }
         }
        },
        "template": {
         "data": {
          "bar": [
           {
            "error_x": {
             "color": "#2a3f5f"
            },
            "error_y": {
             "color": "#2a3f5f"
            },
            "marker": {
             "line": {
              "color": "#E5ECF6",
              "width": 0.5
             },
             "pattern": {
              "fillmode": "overlay",
              "size": 10,
              "solidity": 0.2
             }
            },
            "type": "bar"
           }
          ],
          "barpolar": [
           {
            "marker": {
             "line": {
              "color": "#E5ECF6",
              "width": 0.5
             },
             "pattern": {
              "fillmode": "overlay",
              "size": 10,
              "solidity": 0.2
             }
            },
            "type": "barpolar"
           }
          ],
          "carpet": [
           {
            "aaxis": {
             "endlinecolor": "#2a3f5f",
             "gridcolor": "white",
             "linecolor": "white",
             "minorgridcolor": "white",
             "startlinecolor": "#2a3f5f"
            },
            "baxis": {
             "endlinecolor": "#2a3f5f",
             "gridcolor": "white",
             "linecolor": "white",
             "minorgridcolor": "white",
             "startlinecolor": "#2a3f5f"
            },
            "type": "carpet"
           }
          ],
          "choropleth": [
           {
            "colorbar": {
             "outlinewidth": 0,
             "ticks": ""
            },
            "type": "choropleth"
           }
          ],
          "contour": [
           {
            "colorbar": {
             "outlinewidth": 0,
             "ticks": ""
            },
            "colorscale": [
             [
              0,
              "#0d0887"
             ],
             [
              0.1111111111111111,
              "#46039f"
             ],
             [
              0.2222222222222222,
              "#7201a8"
             ],
             [
              0.3333333333333333,
              "#9c179e"
             ],
             [
              0.4444444444444444,
              "#bd3786"
             ],
             [
              0.5555555555555556,
              "#d8576b"
             ],
             [
              0.6666666666666666,
              "#ed7953"
             ],
             [
              0.7777777777777778,
              "#fb9f3a"
             ],
             [
              0.8888888888888888,
              "#fdca26"
             ],
             [
              1,
              "#f0f921"
             ]
            ],
            "type": "contour"
           }
          ],
          "contourcarpet": [
           {
            "colorbar": {
             "outlinewidth": 0,
             "ticks": ""
            },
            "type": "contourcarpet"
           }
          ],
          "heatmap": [
           {
            "colorbar": {
             "outlinewidth": 0,
             "ticks": ""
            },
            "colorscale": [
             [
              0,
              "#0d0887"
             ],
             [
              0.1111111111111111,
              "#46039f"
             ],
             [
              0.2222222222222222,
              "#7201a8"
             ],
             [
              0.3333333333333333,
              "#9c179e"
             ],
             [
              0.4444444444444444,
              "#bd3786"
             ],
             [
              0.5555555555555556,
              "#d8576b"
             ],
             [
              0.6666666666666666,
              "#ed7953"
             ],
             [
              0.7777777777777778,
              "#fb9f3a"
             ],
             [
              0.8888888888888888,
              "#fdca26"
             ],
             [
              1,
              "#f0f921"
             ]
            ],
            "type": "heatmap"
           }
          ],
          "heatmapgl": [
           {
            "colorbar": {
             "outlinewidth": 0,
             "ticks": ""
            },
            "colorscale": [
             [
              0,
              "#0d0887"
             ],
             [
              0.1111111111111111,
              "#46039f"
             ],
             [
              0.2222222222222222,
              "#7201a8"
             ],
             [
              0.3333333333333333,
              "#9c179e"
             ],
             [
              0.4444444444444444,
              "#bd3786"
             ],
             [
              0.5555555555555556,
              "#d8576b"
             ],
             [
              0.6666666666666666,
              "#ed7953"
             ],
             [
              0.7777777777777778,
              "#fb9f3a"
             ],
             [
              0.8888888888888888,
              "#fdca26"
             ],
             [
              1,
              "#f0f921"
             ]
            ],
            "type": "heatmapgl"
           }
          ],
          "histogram": [
           {
            "marker": {
             "pattern": {
              "fillmode": "overlay",
              "size": 10,
              "solidity": 0.2
             }
            },
            "type": "histogram"
           }
          ],
          "histogram2d": [
           {
            "colorbar": {
             "outlinewidth": 0,
             "ticks": ""
            },
            "colorscale": [
             [
              0,
              "#0d0887"
             ],
             [
              0.1111111111111111,
              "#46039f"
             ],
             [
              0.2222222222222222,
              "#7201a8"
             ],
             [
              0.3333333333333333,
              "#9c179e"
             ],
             [
              0.4444444444444444,
              "#bd3786"
             ],
             [
              0.5555555555555556,
              "#d8576b"
             ],
             [
              0.6666666666666666,
              "#ed7953"
             ],
             [
              0.7777777777777778,
              "#fb9f3a"
             ],
             [
              0.8888888888888888,
              "#fdca26"
             ],
             [
              1,
              "#f0f921"
             ]
            ],
            "type": "histogram2d"
           }
          ],
          "histogram2dcontour": [
           {
            "colorbar": {
             "outlinewidth": 0,
             "ticks": ""
            },
            "colorscale": [
             [
              0,
              "#0d0887"
             ],
             [
              0.1111111111111111,
              "#46039f"
             ],
             [
              0.2222222222222222,
              "#7201a8"
             ],
             [
              0.3333333333333333,
              "#9c179e"
             ],
             [
              0.4444444444444444,
              "#bd3786"
             ],
             [
              0.5555555555555556,
              "#d8576b"
             ],
             [
              0.6666666666666666,
              "#ed7953"
             ],
             [
              0.7777777777777778,
              "#fb9f3a"
             ],
             [
              0.8888888888888888,
              "#fdca26"
             ],
             [
              1,
              "#f0f921"
             ]
            ],
            "type": "histogram2dcontour"
           }
          ],
          "mesh3d": [
           {
            "colorbar": {
             "outlinewidth": 0,
             "ticks": ""
            },
            "type": "mesh3d"
           }
          ],
          "parcoords": [
           {
            "line": {
             "colorbar": {
              "outlinewidth": 0,
              "ticks": ""
             }
            },
            "type": "parcoords"
           }
          ],
          "pie": [
           {
            "automargin": true,
            "type": "pie"
           }
          ],
          "scatter": [
           {
            "fillpattern": {
             "fillmode": "overlay",
             "size": 10,
             "solidity": 0.2
            },
            "type": "scatter"
           }
          ],
          "scatter3d": [
           {
            "line": {
             "colorbar": {
              "outlinewidth": 0,
              "ticks": ""
             }
            },
            "marker": {
             "colorbar": {
              "outlinewidth": 0,
              "ticks": ""
             }
            },
            "type": "scatter3d"
           }
          ],
          "scattercarpet": [
           {
            "marker": {
             "colorbar": {
              "outlinewidth": 0,
              "ticks": ""
             }
            },
            "type": "scattercarpet"
           }
          ],
          "scattergeo": [
           {
            "marker": {
             "colorbar": {
              "outlinewidth": 0,
              "ticks": ""
             }
            },
            "type": "scattergeo"
           }
          ],
          "scattergl": [
           {
            "marker": {
             "colorbar": {
              "outlinewidth": 0,
              "ticks": ""
             }
            },
            "type": "scattergl"
           }
          ],
          "scattermapbox": [
           {
            "marker": {
             "colorbar": {
              "outlinewidth": 0,
              "ticks": ""
             }
            },
            "type": "scattermapbox"
           }
          ],
          "scatterpolar": [
           {
            "marker": {
             "colorbar": {
              "outlinewidth": 0,
              "ticks": ""
             }
            },
            "type": "scatterpolar"
           }
          ],
          "scatterpolargl": [
           {
            "marker": {
             "colorbar": {
              "outlinewidth": 0,
              "ticks": ""
             }
            },
            "type": "scatterpolargl"
           }
          ],
          "scatterternary": [
           {
            "marker": {
             "colorbar": {
              "outlinewidth": 0,
              "ticks": ""
             }
            },
            "type": "scatterternary"
           }
          ],
          "surface": [
           {
            "colorbar": {
             "outlinewidth": 0,
             "ticks": ""
            },
            "colorscale": [
             [
              0,
              "#0d0887"
             ],
             [
              0.1111111111111111,
              "#46039f"
             ],
             [
              0.2222222222222222,
              "#7201a8"
             ],
             [
              0.3333333333333333,
              "#9c179e"
             ],
             [
              0.4444444444444444,
              "#bd3786"
             ],
             [
              0.5555555555555556,
              "#d8576b"
             ],
             [
              0.6666666666666666,
              "#ed7953"
             ],
             [
              0.7777777777777778,
              "#fb9f3a"
             ],
             [
              0.8888888888888888,
              "#fdca26"
             ],
             [
              1,
              "#f0f921"
             ]
            ],
            "type": "surface"
           }
          ],
          "table": [
           {
            "cells": {
             "fill": {
              "color": "#EBF0F8"
             },
             "line": {
              "color": "white"
             }
            },
            "header": {
             "fill": {
              "color": "#C8D4E3"
             },
             "line": {
              "color": "white"
             }
            },
            "type": "table"
           }
          ]
         },
         "layout": {
          "annotationdefaults": {
           "arrowcolor": "#2a3f5f",
           "arrowhead": 0,
           "arrowwidth": 1
          },
          "autotypenumbers": "strict",
          "coloraxis": {
           "colorbar": {
            "outlinewidth": 0,
            "ticks": ""
           }
          },
          "colorscale": {
           "diverging": [
            [
             0,
             "#8e0152"
            ],
            [
             0.1,
             "#c51b7d"
            ],
            [
             0.2,
             "#de77ae"
            ],
            [
             0.3,
             "#f1b6da"
            ],
            [
             0.4,
             "#fde0ef"
            ],
            [
             0.5,
             "#f7f7f7"
            ],
            [
             0.6,
             "#e6f5d0"
            ],
            [
             0.7,
             "#b8e186"
            ],
            [
             0.8,
             "#7fbc41"
            ],
            [
             0.9,
             "#4d9221"
            ],
            [
             1,
             "#276419"
            ]
           ],
           "sequential": [
            [
             0,
             "#0d0887"
            ],
            [
             0.1111111111111111,
             "#46039f"
            ],
            [
             0.2222222222222222,
             "#7201a8"
            ],
            [
             0.3333333333333333,
             "#9c179e"
            ],
            [
             0.4444444444444444,
             "#bd3786"
            ],
            [
             0.5555555555555556,
             "#d8576b"
            ],
            [
             0.6666666666666666,
             "#ed7953"
            ],
            [
             0.7777777777777778,
             "#fb9f3a"
            ],
            [
             0.8888888888888888,
             "#fdca26"
            ],
            [
             1,
             "#f0f921"
            ]
           ],
           "sequentialminus": [
            [
             0,
             "#0d0887"
            ],
            [
             0.1111111111111111,
             "#46039f"
            ],
            [
             0.2222222222222222,
             "#7201a8"
            ],
            [
             0.3333333333333333,
             "#9c179e"
            ],
            [
             0.4444444444444444,
             "#bd3786"
            ],
            [
             0.5555555555555556,
             "#d8576b"
            ],
            [
             0.6666666666666666,
             "#ed7953"
            ],
            [
             0.7777777777777778,
             "#fb9f3a"
            ],
            [
             0.8888888888888888,
             "#fdca26"
            ],
            [
             1,
             "#f0f921"
            ]
           ]
          },
          "colorway": [
           "#636efa",
           "#EF553B",
           "#00cc96",
           "#ab63fa",
           "#FFA15A",
           "#19d3f3",
           "#FF6692",
           "#B6E880",
           "#FF97FF",
           "#FECB52"
          ],
          "font": {
           "color": "#2a3f5f"
          },
          "geo": {
           "bgcolor": "white",
           "lakecolor": "white",
           "landcolor": "#E5ECF6",
           "showlakes": true,
           "showland": true,
           "subunitcolor": "white"
          },
          "hoverlabel": {
           "align": "left"
          },
          "hovermode": "closest",
          "mapbox": {
           "style": "light"
          },
          "paper_bgcolor": "white",
          "plot_bgcolor": "#E5ECF6",
          "polar": {
           "angularaxis": {
            "gridcolor": "white",
            "linecolor": "white",
            "ticks": ""
           },
           "bgcolor": "#E5ECF6",
           "radialaxis": {
            "gridcolor": "white",
            "linecolor": "white",
            "ticks": ""
           }
          },
          "scene": {
           "xaxis": {
            "backgroundcolor": "#E5ECF6",
            "gridcolor": "white",
            "gridwidth": 2,
            "linecolor": "white",
            "showbackground": true,
            "ticks": "",
            "zerolinecolor": "white"
           },
           "yaxis": {
            "backgroundcolor": "#E5ECF6",
            "gridcolor": "white",
            "gridwidth": 2,
            "linecolor": "white",
            "showbackground": true,
            "ticks": "",
            "zerolinecolor": "white"
           },
           "zaxis": {
            "backgroundcolor": "#E5ECF6",
            "gridcolor": "white",
            "gridwidth": 2,
            "linecolor": "white",
            "showbackground": true,
            "ticks": "",
            "zerolinecolor": "white"
           }
          },
          "shapedefaults": {
           "line": {
            "color": "#2a3f5f"
           }
          },
          "ternary": {
           "aaxis": {
            "gridcolor": "white",
            "linecolor": "white",
            "ticks": ""
           },
           "baxis": {
            "gridcolor": "white",
            "linecolor": "white",
            "ticks": ""
           },
           "bgcolor": "#E5ECF6",
           "caxis": {
            "gridcolor": "white",
            "linecolor": "white",
            "ticks": ""
           }
          },
          "title": {
           "x": 0.05
          },
          "xaxis": {
           "automargin": true,
           "gridcolor": "white",
           "linecolor": "white",
           "ticks": "",
           "title": {
            "standoff": 15
           },
           "zerolinecolor": "white",
           "zerolinewidth": 2
          },
          "yaxis": {
           "automargin": true,
           "gridcolor": "white",
           "linecolor": "white",
           "ticks": "",
           "title": {
            "standoff": 15
           },
           "zerolinecolor": "white",
           "zerolinewidth": 2
          }
         }
        },
        "title": {
         "text": "Free Energy Landscape"
        },
        "width": 750
       }
      }
     },
     "metadata": {},
     "output_type": "display_data"
    }
   ],
   "source": [
    "import plotly.graph_objects as go \n",
    "\n",
    "z = g_vecs\n",
    "\n",
    "fig = go.Figure(data=[go.Surface(x=g_vecs.columns, y=np.linspace(1, N_PLANES, N_PLANES), z=z.values)])\n",
    "fig.update_layout(title='Free Energy Landscape',\n",
    "                  scene=dict(xaxis_title='Temperature (K)', yaxis_title='Structured Elems', zaxis_title='Free Energy (kJ/mol)'),\n",
    "                  width=750, height=750, autosize = False,\n",
    "                  margin=dict(l=65, r=50, b=65, t=90)\n",
    "                  )"
   ]
  },
  {
   "cell_type": "code",
   "execution_count": 10,
   "metadata": {},
   "outputs": [],
   "source": [
    "#  save g_vecs to a csv file\n",
    "import os\n",
    "\n",
    "os.makedirs('./g_vecs', exist_ok=True)\n",
    "g_vecs.to_csv(f'./g_vecs/{id}_g_vecs.csv', index=False)\n",
    "\n",
    "# master matrix to csv\n",
    "os.makedirs('./master_matrices', exist_ok=True)\n",
    "fin_master_matrix.to_csv(f'./master_matrices/{id}_master_matrix.csv', index=False)\n"
   ]
  },
  {
   "cell_type": "code",
   "execution_count": 11,
   "metadata": {},
   "outputs": [
    {
     "name": "stdout",
     "output_type": "stream",
     "text": [
      "278    3.609206\n",
      "288    3.740592\n",
      "298    3.872142\n",
      "308    4.003855\n",
      "318    4.135732\n",
      "328    4.267772\n",
      "338    4.399975\n",
      "348    4.532339\n",
      "358    4.664865\n",
      "368    4.797551\n",
      "dtype: float64\n",
      "minimum free energy values occur when the number of structured elements interacting are : {10}\n"
     ]
    }
   ],
   "source": [
    "# analysis of free energy values based on the structured elements\n",
    "struct_group = fin_master_matrix.groupby('struct_elem')\n",
    "\n",
    "# get the structured elements with minimum free energy values\n",
    "min_g_vals = g_vecs.min(axis='index')\n",
    "print(min_g_vals)\n",
    "\n",
    "# for each temperature, get the no of structured elements with minimum free energy values\n",
    "min_g_vals_struct_elems = []\n",
    "for temp in g_vecs.columns:\n",
    "    min_g = min_g_vals[temp]\n",
    "    min_g_vals_struct_elems += (g_vecs[temp].index[g_vecs[temp] == min_g].tolist())\n",
    "\n",
    "min_g_vals_struct_elems = set(min_g_vals_struct_elems)\n",
    "print('minimum free energy values occur when the number of structured elements interacting are :', min_g_vals_struct_elems)"
   ]
  },
  {
   "cell_type": "code",
   "execution_count": 12,
   "metadata": {},
   "outputs": [],
   "source": [
    "min_g_vals_groups = struct_group.get_group(min_g_vals_struct_elems.pop())\n",
    "for elem in min_g_vals_struct_elems:\n",
    "    min_g_vals_groups = pd.concat([min_g_vals_groups, struct_group.get_group(elem)])"
   ]
  },
  {
   "cell_type": "code",
   "execution_count": 14,
   "metadata": {},
   "outputs": [
    {
     "name": "stderr",
     "output_type": "stream",
     "text": [
      "/var/folders/7l/2100442d14j36v6s7s59lflm0000gn/T/ipykernel_58891/3899197965.py:2: SettingWithCopyWarning:\n",
      "\n",
      "\n",
      "A value is trying to be set on a copy of a slice from a DataFrame.\n",
      "Try using .loc[row_indexer,col_indexer] = value instead\n",
      "\n",
      "See the caveats in the documentation: https://pandas.pydata.org/pandas-docs/stable/user_guide/indexing.html#returning-a-view-versus-a-copy\n",
      "\n",
      "/var/folders/7l/2100442d14j36v6s7s59lflm0000gn/T/ipykernel_58891/3899197965.py:3: SettingWithCopyWarning:\n",
      "\n",
      "\n",
      "A value is trying to be set on a copy of a slice from a DataFrame.\n",
      "Try using .loc[row_indexer,col_indexer] = value instead\n",
      "\n",
      "See the caveats in the documentation: https://pandas.pydata.org/pandas-docs/stable/user_guide/indexing.html#returning-a-view-versus-a-copy\n",
      "\n"
     ]
    },
    {
     "data": {
      "image/png": "[encoded data removed]",
      "text/plain": [
       "<Figure size 640x440 with 1 Axes>"
      ]
     },
     "metadata": {},
     "output_type": "display_data"
    }
   ],
   "source": [
    "min_g_val_group_z_total = min_g_vals_groups.sw_part.sum()\n",
    "min_g_vals_groups['partial_z'] = min_g_vals_groups.sw_part/min_g_val_group_z_total\n",
    "min_g_vals_groups['g_part'] = [-R*temp*math.log(i) for i in min_g_vals_groups.partial_z]\n",
    "\n",
    "plt.hist(min_g_vals_groups['g_part'], bins=50)\n",
    "plt.grid()\n",
    "plt.xlabel('free energy (J/mol)')\n",
    "plt.ylabel('frequency')\n",
    "plt.title('Histogram of free energy values for structured elements with minimum free energy values')\n",
    "plt.show()"
   ]
  },
  {
   "cell_type": "code",
   "execution_count": 15,
   "metadata": {},
   "outputs": [
    {
     "data": {
      "image/png": "[encoded data removed]",
      "text/plain": [
       "<Figure size 1500x500 with 3 Axes>"
      ]
     },
     "metadata": {},
     "output_type": "display_data"
    }
   ],
   "source": [
    "def get_struct_elem_list(master_matrix) -> list:\n",
    "    struct_elem_list = []\n",
    "    for i in range(len(master_matrix)):\n",
    "        start1 = int(master_matrix.iloc[i].start1)\n",
    "        end1 = int(master_matrix.iloc[i].end1)\n",
    "        start2 = int(master_matrix.iloc[i].start2)\n",
    "        end2 = int(master_matrix.iloc[i].end2)\n",
    "        comb_type = master_matrix.iloc[i].type\n",
    "        if comb_type == 1:\n",
    "            elems_in_comb = list(range(start1, end1))\n",
    "        elif comb_type == 2:\n",
    "            elems_in_comb = list(range(start1, end1)) + list(range(start2, end2))\n",
    "        struct_elem_list.append(elems_in_comb)\n",
    "\n",
    "    return struct_elem_list\n",
    "\n",
    "# separate ssa entries from the master matrix (type 1)\n",
    "ssa_entries = min_g_vals_groups[min_g_vals_groups.type == 1].reset_index()\n",
    "dsa_entries = min_g_vals_groups[min_g_vals_groups.type == 2].reset_index()\n",
    "total_entries = min_g_vals_groups.reset_index()\n",
    "struct_elem_list = get_struct_elem_list(min_g_vals_groups)\n",
    "\n",
    "fig = plt.figure(figsize=(15, 5))\n",
    "ax1 = plt.subplot(1, 3, 1)\n",
    "ax1.plot(ssa_entries.g_part)\n",
    "plt.ylabel('free energy (J/mol)')\n",
    "plt.title('Free energy values for ssa structured elements')\n",
    "plt.xlabel('Combination index')\n",
    "\n",
    "ax2 = plt.subplot(1, 3, 2)\n",
    "ax2.plot(dsa_entries.g_part)\n",
    "plt.ylabel('free energy (J/mol)')\n",
    "plt.title('Free energy values for dsa structured elements')\n",
    "plt.xlabel('Combination index')\n",
    "\n",
    "ax3 = plt.subplot(1, 3, 3)\n",
    "ax3.plot(total_entries.g_part)\n",
    "plt.ylabel('free energy (J/mol)')\n",
    "plt.title(\"Free energy values for all structured elements\")\n",
    "plt.xlabel('Combination index')\n",
    "\n",
    "plt.show()\n",
    "\n"
   ]
  },
  {
   "cell_type": "code",
   "execution_count": null,
   "metadata": {},
   "outputs": [
    {
     "data": {
      "image/png": "[encoded data removed]",
      "text/plain": [
       "<Figure size 640x440 with 1 Axes>"
      ]
     },
     "metadata": {},
     "output_type": "display_data"
    }
   ],
   "source": [
    "mean_g_part_total = total_entries.g_part.mean()\n",
    "std_g_part_total = total_entries.g_part.std()\n",
    "\n",
    "plt.hist(total_entries.g_part, bins=50)\n",
    "plt.axvline(mean_g_part_total, color='r', linestyle='dashed', linewidth=1)\n",
    "plt.fill_betweenx([0, 30], mean_g_part_total - std_g_part_total, mean_g_part_total + std_g_part_total, color='r', alpha=0.2)\n",
    "plt.grid()\n",
    "plt.xlabel('free energy (J/mol)')\n",
    "plt.ylabel('frequency')\n",
    "plt.title('g_part for all microstates in min_g_vals_groups')\n",
    "plt.show()\n",
    "\n",
    "# plotting this just to check if there are any indications of a two state like system. (may or may not be useful)\n"
   ]
  },
  {
   "cell_type": "code",
   "execution_count": null,
   "metadata": {},
   "outputs": [
    {
     "data": {
      "image/png": "[encoded data removed]",
      "text/plain": [
       "<Figure size 640x440 with 1 Axes>"
      ]
     },
     "metadata": {},
     "output_type": "display_data"
    }
   ],
   "source": [
    "hist = np.histogram(total_entries.g_part, bins = 50)\n",
    "max_freq = max(hist[0])\n",
    "max_freq_idx = np.where(hist[0] == max_freq)[0][0]\n",
    "\n",
    "# boundaries of the bins with the highest frequency\n",
    "bin_start = hist[1][max_freq_idx]\n",
    "bin_end = hist[1][max_freq_idx+1]\n",
    "\n",
    "# microstates which fall within the boundaries of the bins with the highest frequency\n",
    "stable_struct_elems_freq = total_entries[(total_entries.g_part >= bin_start) & (total_entries.g_part <= bin_end)]\n",
    "stable_struct_elems_cond = total_entries[(total_entries.g_part < (mean_g_part_total - std_g_part_total))]\n",
    "\n",
    "stable_struct_elems_list = get_struct_elem_list(stable_struct_elems_freq)\n",
    "stable_struct_elems_list_cond = get_struct_elem_list(stable_struct_elems_cond)\n",
    "\n",
    "# print('stable structured elements:', stable_struct_elems_list)\n",
    "# print(len(stable_struct_elems_list))\n",
    "se_freq_stable = {}\n",
    "se_freq_stable_cond = {}\n",
    "\n",
    "for i in range(len(stable_struct_elems_list)):\n",
    "    temp = stable_struct_elems_list[i]\n",
    "    se_list = np.zeros(N_PLANES+1)\n",
    "    for elem in temp:\n",
    "        se_list[elem] += 1\n",
    "    se_freq_stable[i] = se_list\n",
    "\n",
    "for i in range(len(stable_struct_elems_list_cond)):\n",
    "    temp = stable_struct_elems_list_cond[i]\n",
    "    se_list = np.zeros(N_PLANES+1)\n",
    "    for elem in temp:\n",
    "        se_list[elem] += 1\n",
    "    se_freq_stable_cond[i] = se_list\n",
    "\n",
    "se_freq_stable_df = pd.DataFrame(se_freq_stable)\n",
    "se_freq_stable_cond_df = pd.DataFrame(se_freq_stable_cond)\n",
    "\n",
    "counts = se_freq_stable_df.sum(axis=1)\n",
    "counts_cond = se_freq_stable_cond_df.sum(axis=1)\n",
    "plt.plot(counts)\n",
    "plt.plot(counts_cond)\n",
    "plt.legend(['stable structured elements', 'stable structured elements with energy < (mean-std)'])\n",
    "plt.title('Frequency of stable structured elements')\n",
    "plt.xlabel('Z-axis')\n",
    "plt.ylabel('Frequency')\n",
    "plt.show()"
   ]
  },
  {
   "cell_type": "code",
   "execution_count": null,
   "metadata": {},
   "outputs": [],
   "source": [
    "pdb = pandaspdb.PandasPdb() \n",
    "pdb.read_pdb(f'{pdb_file_dir}/{id}.pdb')\n",
    "\n",
    "pdb_df = pdb.df['ATOM']\n",
    "sections = []\n",
    "for i in range(len(pdb_df)):\n",
    "    z = pdb_df.z_coord.iloc[i]\n",
    "    section = np.digitize(z, z_planes)\n",
    "    sections.append(section)\n",
    "\n",
    "temp = []\n",
    "for section in sections:\n",
    "    temp.append(counts[section])\n",
    "\n",
    "pdb_df.b_factor = temp\n",
    "pdb.to_pdb(path=f'../mod_pdb_files/{id}_se_freq_stable.pdb', records=['ATOM'])"
   ]
  },
  {
   "cell_type": "code",
   "execution_count": null,
   "metadata": {},
   "outputs": [
    {
     "data": {
      "application/vnd.microsoft.datawrangler.viewer.v0+json": {
       "columns": [
        {
         "name": "index",
         "rawType": "int64",
         "type": "integer"
        },
        {
         "name": "struct_elem",
         "rawType": "int64",
         "type": "integer"
        },
        {
         "name": "sw_part",
         "rawType": "float64",
         "type": "float"
        },
        {
         "name": "start1",
         "rawType": "int64",
         "type": "integer"
        },
        {
         "name": "end1",
         "rawType": "int64",
         "type": "integer"
        },
        {
         "name": "start2",
         "rawType": "int64",
         "type": "integer"
        },
        {
         "name": "end2",
         "rawType": "int64",
         "type": "integer"
        },
        {
         "name": "type",
         "rawType": "int64",
         "type": "integer"
        },
        {
         "name": "partial_z",
         "rawType": "float64",
         "type": "float"
        },
        {
         "name": "g_part",
         "rawType": "float64",
         "type": "float"
        }
       ],
       "conversionMethod": "pd.DataFrame",
       "ref": "368ab6c5-23ec-49cc-9374-ebc9db6d789f",
       "rows": [
        [
         "11",
         "10",
         "3.07566668028889e+30",
         "0",
         "0",
         "2",
         "12",
         "2",
         "3.4458165989244277e-18",
         "123.02266072334301"
        ],
        [
         "26",
         "10",
         "3.4917010275184163e+30",
         "0",
         "0",
         "3",
         "13",
         "2",
         "3.9119197916382556e-18",
         "122.63450351924219"
        ],
        [
         "40",
         "10",
         "1.5749840805847413e+30",
         "0",
         "0",
         "4",
         "14",
         "2",
         "1.7645300522002193e-18",
         "125.07034703773215"
        ],
        [
         "53",
         "10",
         "4.743393658134e+25",
         "0",
         "0",
         "5",
         "15",
         "2",
         "5.314250958070582e-23",
         "156.92156160328457"
        ],
        [
         "65",
         "10",
         "3203115828432401.0",
         "0",
         "0",
         "6",
         "16",
         "2",
         "3.588603979951828e-33",
         "228.5716181246149"
        ],
        [
         "131",
         "10",
         "3.07566668028889e+30",
         "0",
         "1",
         "3",
         "12",
         "2",
         "3.4458165989244277e-18",
         "123.02266072334301"
        ],
        [
         "145",
         "10",
         "1.2856410055581051e+30",
         "0",
         "1",
         "4",
         "13",
         "2",
         "1.4403651558217304e-18",
         "125.6913985642935"
        ],
        [
         "158",
         "10",
         "4.743393658134e+25",
         "0",
         "1",
         "5",
         "14",
         "2",
         "5.314250958070582e-23",
         "156.92156160328457"
        ],
        [
         "170",
         "10",
         "3203115828432401.0",
         "0",
         "1",
         "6",
         "15",
         "2",
         "3.588603979951828e-33",
         "228.5716181246149"
        ],
        [
         "181",
         "10",
         "9.759313534014474e+18",
         "0",
         "1",
         "7",
         "16",
         "2",
         "1.093382608236866e-29",
         "204.02834078676315"
        ],
        [
         "236",
         "10",
         "1.1324575536235002e+30",
         "0",
         "2",
         "4",
         "12",
         "2",
         "1.2687464024829501e-18",
         "126.07955576839431"
        ],
        [
         "249",
         "10",
         "3.871976528256257e+25",
         "0",
         "2",
         "5",
         "13",
         "2",
         "4.3379606370278053e-23",
         "157.5426131298459"
        ],
        [
         "261",
         "10",
         "3203115828432401.0",
         "0",
         "2",
         "6",
         "14",
         "2",
         "3.588603979951828e-33",
         "228.5716181246149"
        ],
        [
         "272",
         "10",
         "9.759313534014474e+18",
         "0",
         "2",
         "7",
         "15",
         "2",
         "1.093382608236866e-29",
         "204.02834078676315"
        ],
        [
         "282",
         "10",
         "756501685660.9991",
         "0",
         "2",
         "8",
         "16",
         "2",
         "8.475450484511323e-37",
         "254.1217221846621"
        ],
        [
         "327",
         "10",
         "9.263012880993635e+25",
         "0",
         "3",
         "5",
         "12",
         "2",
         "1.0377796705324586e-22",
         "154.87387528889542"
        ],
        [
         "339",
         "10",
         "7101229128135452.0",
         "0",
         "3",
         "6",
         "13",
         "2",
         "7.955846893069836e-33",
         "226.13577460612493"
        ],
        [
         "350",
         "10",
         "2.6505536885702685e+19",
         "0",
         "3",
         "7",
         "14",
         "2",
         "2.969542166239525e-29",
         "200.97144574171188"
        ],
        [
         "360",
         "10",
         "2054599769081.9082",
         "0",
         "3",
         "8",
         "15",
         "2",
         "2.301866464861449e-36",
         "251.06482713961083"
        ],
        [
         "369",
         "10",
         "3011999838432.6787",
         "0",
         "3",
         "9",
         "16",
         "2",
         "3.3744875885751584e-36",
         "249.89447755812373"
        ],
        [
         "405",
         "10",
         "2.0769342240279314e+20",
         "0",
         "4",
         "6",
         "12",
         "2",
         "2.326888823777698e-28",
         "194.67271724467332"
        ],
        [
         "416",
         "10",
         "7.184013714771163e+23",
         "0",
         "4",
         "7",
         "13",
         "2",
         "8.048594427967746e-25",
         "169.74128270272072"
        ],
        [
         "426",
         "10",
         "6.822039580729509e+16",
         "0",
         "4",
         "8",
         "14",
         "2",
         "7.643057479684107e-32",
         "219.21361257405835"
        ],
        [
         "435",
         "10",
         "1.0000965844613304e+17",
         "0",
         "4",
         "9",
         "15",
         "2",
         "1.1204560732636964e-31",
         "218.04326299257124"
        ],
        [
         "443",
         "10",
         "228555809.40974104",
         "0",
         "4",
         "10",
         "16",
         "2",
         "2.5606201312123974e-40",
         "278.918410917558"
        ],
        [
         "471",
         "10",
         "9.370999073034254e+33",
         "0",
         "5",
         "7",
         "12",
         "2",
         "1.0498778805034187e-14",
         "98.47938338549116"
        ],
        [
         "481",
         "10",
         "8.246588180467694e+26",
         "0",
         "5",
         "8",
         "13",
         "2",
         "9.239047462087311e-22",
         "148.18460757928935"
        ],
        [
         "490",
         "10",
         "1.481011630658706e+27",
         "0",
         "5",
         "9",
         "14",
         "2",
         "1.6592482185503155e-21",
         "146.39320647124092"
        ],
        [
         "498",
         "10",
         "3.384611219052957e+18",
         "0",
         "5",
         "10",
         "15",
         "2",
         "3.791941953353368e-30",
         "207.26835439622764"
        ],
        [
         "505",
         "10",
         "2.521425079980931e+16",
         "0",
         "5",
         "11",
         "16",
         "2",
         "2.8248732052871763e-32",
         "222.25888942737183"
        ],
        [
         "526",
         "10",
         "2.3841298059135734e+23",
         "0",
         "6",
         "8",
         "12",
         "2",
         "2.6710547381017974e-25",
         "173.11604212124192"
        ],
        [
         "535",
         "10",
         "3.967851312007842e+23",
         "0",
         "6",
         "9",
         "13",
         "2",
         "4.445373746317812e-25",
         "171.55753533565402"
        ],
        [
         "543",
         "10",
         "1110867248096182.4",
         "0",
         "6",
         "10",
         "14",
         "2",
         "1.2445577497792399e-33",
         "231.8116317340794"
        ],
        [
         "550",
         "10",
         "8275599052888.616",
         "0",
         "6",
         "11",
         "15",
         "2",
         "9.271549731067871e-36",
         "246.80216676522363"
        ],
        [
         "556",
         "10",
         "224397316093719.8",
         "0",
         "6",
         "12",
         "16",
         "2",
         "2.514030540127331e-34",
         "236.70531809461983"
        ],
        [
         "571",
         "10",
         "4.508862350472517e+30",
         "0",
         "7",
         "9",
         "12",
         "2",
         "5.0514943082402815e-18",
         "121.8523111418559"
        ],
        [
         "579",
         "10",
         "1.1698093291859337e+22",
         "0",
         "7",
         "10",
         "13",
         "2",
         "1.3105933844908457e-26",
         "182.33930186274176"
        ],
        [
         "586",
         "10",
         "1.0676006064462984e+20",
         "0",
         "7",
         "11",
         "14",
         "2",
         "1.1960840601781022e-28",
         "196.70878536732462"
        ],
        [
         "592",
         "10",
         "2.894856423269501e+21",
         "0",
         "7",
         "12",
         "15",
         "2",
         "3.2432462134902426e-27",
         "186.6119366967209"
        ],
        [
         "597",
         "10",
         "369496.1675016108",
         "0",
         "7",
         "13",
         "16",
         "2",
         "4.1396424241147654e-43",
         "298.5833611657942"
        ],
        [
         "607",
         "10",
         "7.028935989883725e+21",
         "0",
         "8",
         "10",
         "12",
         "2",
         "7.874853429970403e-27",
         "183.8978086483297"
        ],
        [
         "614",
         "10",
         "5.94462755074013e+19",
         "0",
         "8",
         "11",
         "13",
         "2",
         "6.660050785099959e-29",
         "198.50018647537303"
        ],
        [
         "620",
         "10",
         "1.9746917854649524e+21",
         "0",
         "8",
         "12",
         "14",
         "2",
         "2.2123417260142523e-27",
         "187.782286278208"
        ],
        [
         "625",
         "10",
         "252047.40409963022",
         "0",
         "8",
         "13",
         "15",
         "2",
         "2.8238077107911503e-43",
         "299.7537107472812"
        ],
        [
         "629",
         "10",
         "222016.08801355216",
         "0",
         "8",
         "14",
         "16",
         "2",
         "2.487352502168758e-43",
         "300.14186795138204"
        ],
        [
         "635",
         "10",
         "2.2912714647066708e+28",
         "0",
         "9",
         "11",
         "12",
         "2",
         "2.5670210937768283e-20",
         "138.01319575448719"
        ],
        [
         "641",
         "10",
         "7.0533030883721e+29",
         "0",
         "9",
         "12",
         "13",
         "2",
         "7.90215305673977e-19",
         "127.52818987978263"
        ],
        [
         "646",
         "10",
         "110288926198538.97",
         "0",
         "9",
         "13",
         "14",
         "2",
         "1.235619630072466e-34",
         "238.87856282229455"
        ],
        [
         "650",
         "10",
         "97148058450688.77",
         "0",
         "9",
         "14",
         "15",
         "2",
         "1.088396198807932e-34",
         "239.26672002639538"
        ],
        [
         "653",
         "10",
         "79300819033162.23",
         "0",
         "9",
         "15",
         "16",
         "2",
         "8.884450330199837e-35",
         "239.88777155295668"
        ]
       ],
       "shape": {
        "columns": 9,
        "rows": 172
       }
      },
      "text/html": [
       "<div>\n",
       "<style scoped>\n",
       "    .dataframe tbody tr th:only-of-type {\n",
       "        vertical-align: middle;\n",
       "    }\n",
       "\n",
       "    .dataframe tbody tr th {\n",
       "        vertical-align: top;\n",
       "    }\n",
       "\n",
       "    .dataframe thead th {\n",
       "        text-align: right;\n",
       "    }\n",
       "</style>\n",
       "<table border=\"1\" class=\"dataframe\">\n",
       "  <thead>\n",
       "    <tr style=\"text-align: right;\">\n",
       "      <th></th>\n",
       "      <th>struct_elem</th>\n",
       "      <th>sw_part</th>\n",
       "      <th>start1</th>\n",
       "      <th>end1</th>\n",
       "      <th>start2</th>\n",
       "      <th>end2</th>\n",
       "      <th>type</th>\n",
       "      <th>partial_z</th>\n",
       "      <th>g_part</th>\n",
       "    </tr>\n",
       "  </thead>\n",
       "  <tbody>\n",
       "    <tr>\n",
       "      <th>11</th>\n",
       "      <td>10</td>\n",
       "      <td>3.075667e+30</td>\n",
       "      <td>0</td>\n",
       "      <td>0</td>\n",
       "      <td>2</td>\n",
       "      <td>12</td>\n",
       "      <td>2</td>\n",
       "      <td>3.445817e-18</td>\n",
       "      <td>123.022661</td>\n",
       "    </tr>\n",
       "    <tr>\n",
       "      <th>26</th>\n",
       "      <td>10</td>\n",
       "      <td>3.491701e+30</td>\n",
       "      <td>0</td>\n",
       "      <td>0</td>\n",
       "      <td>3</td>\n",
       "      <td>13</td>\n",
       "      <td>2</td>\n",
       "      <td>3.911920e-18</td>\n",
       "      <td>122.634504</td>\n",
       "    </tr>\n",
       "    <tr>\n",
       "      <th>40</th>\n",
       "      <td>10</td>\n",
       "      <td>1.574984e+30</td>\n",
       "      <td>0</td>\n",
       "      <td>0</td>\n",
       "      <td>4</td>\n",
       "      <td>14</td>\n",
       "      <td>2</td>\n",
       "      <td>1.764530e-18</td>\n",
       "      <td>125.070347</td>\n",
       "    </tr>\n",
       "    <tr>\n",
       "      <th>53</th>\n",
       "      <td>10</td>\n",
       "      <td>4.743394e+25</td>\n",
       "      <td>0</td>\n",
       "      <td>0</td>\n",
       "      <td>5</td>\n",
       "      <td>15</td>\n",
       "      <td>2</td>\n",
       "      <td>5.314251e-23</td>\n",
       "      <td>156.921562</td>\n",
       "    </tr>\n",
       "    <tr>\n",
       "      <th>65</th>\n",
       "      <td>10</td>\n",
       "      <td>3.203116e+15</td>\n",
       "      <td>0</td>\n",
       "      <td>0</td>\n",
       "      <td>6</td>\n",
       "      <td>16</td>\n",
       "      <td>2</td>\n",
       "      <td>3.588604e-33</td>\n",
       "      <td>228.571618</td>\n",
       "    </tr>\n",
       "    <tr>\n",
       "      <th>...</th>\n",
       "      <td>...</td>\n",
       "      <td>...</td>\n",
       "      <td>...</td>\n",
       "      <td>...</td>\n",
       "      <td>...</td>\n",
       "      <td>...</td>\n",
       "      <td>...</td>\n",
       "      <td>...</td>\n",
       "      <td>...</td>\n",
       "    </tr>\n",
       "    <tr>\n",
       "      <th>2414</th>\n",
       "      <td>10</td>\n",
       "      <td>2.736199e+43</td>\n",
       "      <td>4</td>\n",
       "      <td>13</td>\n",
       "      <td>15</td>\n",
       "      <td>16</td>\n",
       "      <td>2</td>\n",
       "      <td>3.065494e-05</td>\n",
       "      <td>31.797057</td>\n",
       "    </tr>\n",
       "    <tr>\n",
       "      <th>2416</th>\n",
       "      <td>10</td>\n",
       "      <td>3.352000e+43</td>\n",
       "      <td>4</td>\n",
       "      <td>14</td>\n",
       "      <td>0</td>\n",
       "      <td>0</td>\n",
       "      <td>1</td>\n",
       "      <td>3.755407e-05</td>\n",
       "      <td>31.176005</td>\n",
       "    </tr>\n",
       "    <tr>\n",
       "      <th>2417</th>\n",
       "      <td>10</td>\n",
       "      <td>3.352000e+43</td>\n",
       "      <td>4</td>\n",
       "      <td>14</td>\n",
       "      <td>16</td>\n",
       "      <td>16</td>\n",
       "      <td>2</td>\n",
       "      <td>3.755407e-05</td>\n",
       "      <td>31.176005</td>\n",
       "    </tr>\n",
       "    <tr>\n",
       "      <th>2650</th>\n",
       "      <td>10</td>\n",
       "      <td>1.009525e+39</td>\n",
       "      <td>5</td>\n",
       "      <td>15</td>\n",
       "      <td>0</td>\n",
       "      <td>0</td>\n",
       "      <td>1</td>\n",
       "      <td>1.131019e-09</td>\n",
       "      <td>63.027220</td>\n",
       "    </tr>\n",
       "    <tr>\n",
       "      <th>2827</th>\n",
       "      <td>10</td>\n",
       "      <td>6.817114e+28</td>\n",
       "      <td>6</td>\n",
       "      <td>16</td>\n",
       "      <td>0</td>\n",
       "      <td>0</td>\n",
       "      <td>1</td>\n",
       "      <td>7.637539e-20</td>\n",
       "      <td>134.677277</td>\n",
       "    </tr>\n",
       "  </tbody>\n",
       "</table>\n",
       "<p>172 rows × 9 columns</p>\n",
       "</div>"
      ],
      "text/plain": [
       "      struct_elem       sw_part  start1  end1  start2  end2  type  \\\n",
       "11             10  3.075667e+30       0     0       2    12     2   \n",
       "26             10  3.491701e+30       0     0       3    13     2   \n",
       "40             10  1.574984e+30       0     0       4    14     2   \n",
       "53             10  4.743394e+25       0     0       5    15     2   \n",
       "65             10  3.203116e+15       0     0       6    16     2   \n",
       "...           ...           ...     ...   ...     ...   ...   ...   \n",
       "2414           10  2.736199e+43       4    13      15    16     2   \n",
       "2416           10  3.352000e+43       4    14       0     0     1   \n",
       "2417           10  3.352000e+43       4    14      16    16     2   \n",
       "2650           10  1.009525e+39       5    15       0     0     1   \n",
       "2827           10  6.817114e+28       6    16       0     0     1   \n",
       "\n",
       "         partial_z      g_part  \n",
       "11    3.445817e-18  123.022661  \n",
       "26    3.911920e-18  122.634504  \n",
       "40    1.764530e-18  125.070347  \n",
       "53    5.314251e-23  156.921562  \n",
       "65    3.588604e-33  228.571618  \n",
       "...            ...         ...  \n",
       "2414  3.065494e-05   31.797057  \n",
       "2416  3.755407e-05   31.176005  \n",
       "2417  3.755407e-05   31.176005  \n",
       "2650  1.131019e-09   63.027220  \n",
       "2827  7.637539e-20  134.677277  \n",
       "\n",
       "[172 rows x 9 columns]"
      ]
     },
     "metadata": {},
     "output_type": "display_data"
    }
   ],
   "source": [
    "display(min_g_vals_groups)"
   ]
  },
  {
   "cell_type": "code",
   "execution_count": null,
   "metadata": {},
   "outputs": [
    {
     "name": "stdout",
     "output_type": "stream",
     "text": [
      "set()\n"
     ]
    }
   ],
   "source": [
    "print(min_g_vals_struct_elems)"
   ]
  },
  {
   "cell_type": "code",
   "execution_count": null,
   "metadata": {},
   "outputs": [],
   "source": [
    "# get the structured elements with minimum free energy values\n",
    "min_g_vals_struct_elems = []\n",
    "for temp in g_vecs.columns:\n",
    "    min_g = min_g_vals[temp]\n",
    "    min_g_vals_struct_elems += (g_vecs[temp].index[g_vecs[temp] == min_g].tolist())\n"
   ]
  },
  {
   "cell_type": "code",
   "execution_count": null,
   "metadata": {},
   "outputs": [
    {
     "data": {
      "image/png": "[encoded data removed]",
      "text/plain": [
       "<Figure size 640x440 with 1 Axes>"
      ]
     },
     "metadata": {},
     "output_type": "display_data"
    },
    {
     "data": {
      "image/png": "[encoded data removed]",
      "text/plain": [
       "<Figure size 640x440 with 1 Axes>"
      ]
     },
     "metadata": {},
     "output_type": "display_data"
    }
   ],
   "source": [
    "import networkx as nx \n",
    "from Levenshtein import distance\n",
    "\n",
    "def get_struct_elem_string(struct_elem_list, N_PLANES) -> list:\n",
    "    struct_elem_str = []\n",
    "    for entry in struct_elem_list:\n",
    "        temp = np.zeros(N_PLANES+1)\n",
    "        for elem in entry:\n",
    "            temp[elem] = 1\n",
    "\n",
    "        struct_elem_str.append(''.join([str(int(i)) for i in temp]))\n",
    "    return struct_elem_str\n",
    "\n",
    "def calc_edge_weight(g1, g2, t=10) -> float:\n",
    "    '''\n",
    "    This maps the difference in free energy values to an edge weight. \n",
    "    The molecule should have higher chance of switching between conformations that have similar free energy values.\n",
    "    hence the edge weights have been defined as the reciprocal of the square root of the difference in free energy values.\n",
    "    this makes two conformations that have close free energy values to have a higher edge weight and vice versa.\n",
    "    '''\n",
    "    \n",
    "    diff = abs(g1 - g2)\n",
    "    if diff == 0:\n",
    "        return 1\n",
    "    return t/math.sqrt(diff)\n",
    "\n",
    "def get_graph(struct_elem_str, min_g_vals_groups) -> nx.Graph:\n",
    "    G = nx.Graph()\n",
    "    for i in range(len(struct_elem_str)):\n",
    "        for j in range(i+1, len(struct_elem_str)):\n",
    "            dist = distance(struct_elem_str[i], struct_elem_str[j])\n",
    "            if dist == 1:\n",
    "                edge_weight = calc_edge_weight(min_g_vals_groups.iloc[i].g_part, min_g_vals_groups.iloc[j].g_part, t=20)\n",
    "                # print(edge_weight)\n",
    "                G.add_edge(i, j, weight=edge_weight)\n",
    "    return G\n",
    "\n",
    "struct_elem_str = get_struct_elem_string(struct_elem_list, N_PLANES)\n",
    "# print(struct_elem_str)\n",
    "G = get_graph(struct_elem_str, min_g_vals_groups)\n",
    "\n",
    "# draw the graph with edge weights as width of the edges\n",
    "edge_weights = nx.get_edge_attributes(G, 'weight')\n",
    "plt.hist(edge_weights.values())\n",
    "plt.grid()\n",
    "plt.xlabel('edge weights')\n",
    "plt.ylabel('frequency')\n",
    "plt.title('Histogram of edge weights')\n",
    "plt.show()\n",
    "\n",
    "pos = nx.spring_layout(G, k=0.3, seed=42, iterations=75)\n",
    "weights = [G[u][v]['weight'] for u,v in G.edges()]\n",
    "plt.figure()\n",
    "plt.title(\"Graph of structured elements\")\n",
    "nx.draw_networkx(G, pos, \n",
    "            with_labels=True, \n",
    "            width=weights, \n",
    "            node_size=200,\n",
    "            node_color='gray',\n",
    "            font_size=7,\n",
    "            font_color='black')\n",
    "plt.tight_layout()\n",
    "plt.show()\n",
    "            "
   ]
  },
  {
   "cell_type": "code",
   "execution_count": null,
   "metadata": {},
   "outputs": [
    {
     "name": "stdout",
     "output_type": "stream",
     "text": [
      "Centers identified from the clustering [4, 50, 96, 131, 155, 168, 170, 171]\n"
     ]
    },
    {
     "data": {
      "text/plain": [
       "'These centers have the corresponding structured elements their microstate'"
      ]
     },
     "metadata": {},
     "output_type": "display_data"
    },
    {
     "data": {
      "text/plain": [
       "[[2, 3, 4, 5, 6, 7, 8, 9, 10, 11, 12],\n",
       " [3, 4, 5, 6, 7, 8, 9, 10, 11, 12, 13],\n",
       " [4, 5, 6, 7, 8, 9, 10, 11, 12, 13, 14],\n",
       " [5, 6, 7, 8, 9, 10, 11, 12, 13, 14, 15],\n",
       " [0, 6, 7, 8, 9, 10, 11, 12, 13, 14, 15, 16],\n",
       " [6, 7, 8, 9, 10, 11, 12, 13, 14, 15, 16],\n",
       " [0, 1, 2, 3, 4, 5, 6, 7, 8, 9, 10],\n",
       " [1, 2, 3, 4, 5, 6, 7, 8, 9, 10, 11]]"
      ]
     },
     "metadata": {},
     "output_type": "display_data"
    },
    {
     "data": {
      "image/png": "[encoded data removed]",
      "text/plain": [
       "<Figure size 640x440 with 1 Axes>"
      ]
     },
     "metadata": {},
     "output_type": "display_data"
    }
   ],
   "source": [
    "# find clusters and their centers in the graph\n",
    "from networkx.algorithms import community\n",
    "import seaborn as sns\n",
    "communities = community.girvan_newman(G)\n",
    "top_level_communities = next(communities)\n",
    "\n",
    "# get the communities and their centers\n",
    "communities = list(top_level_communities)\n",
    "centers = []\n",
    "for comm in communities:\n",
    "    center = nx.center(G.subgraph(comm))\n",
    "    centers.append(center)\n",
    "\n",
    "centers_struct_elems = []\n",
    "centers_struct_elems_idx = []\n",
    "for center in centers:\n",
    "    for node in center:\n",
    "        centers_struct_elems_idx.append(node)\n",
    "        centers_struct_elems.append(struct_elem_list[node])\n",
    "\n",
    "centers_struct_elems_idx.sort()\n",
    "centers_g_vals = min_g_vals_groups.iloc[centers_struct_elems_idx].reset_index()\n",
    "print(\"Centers identified from the clustering\", centers_struct_elems_idx)\n",
    "display(\"These centers have the corresponding structured elements their microstate\", centers_struct_elems)\n",
    "\n",
    "pal = sns.color_palette('Blues_d', len(centers_struct_elems_idx))\n",
    "rank = np.array(centers_g_vals.g_part).argsort().argsort()\n",
    "sns.barplot(x=centers_struct_elems_idx, y=centers_g_vals.g_part, palette=np.array(pal)[rank])\n",
    "plt.ylabel('free energy (J/mol)')\n",
    "plt.title('Free energy values for centers of communities')\n",
    "plt.xlabel('Cluster center number')\n",
    "\n",
    "plt.show()\n",
    "\n",
    "# What these indexes imply is that the structured elements at these indexes are the centers of the communities that were identified in the graph.\n",
    "\n",
    "# This is able to give a much clearer picture of the free energy values that were seen in the earlier free energy plots which involved all combinations. \n",
    "# TODO: Can also look at how to use the edge weight data to understand the transitions between the different conformations."
   ]
  },
  {
   "cell_type": "code",
   "execution_count": null,
   "metadata": {},
   "outputs": [
    {
     "name": "stdout",
     "output_type": "stream",
     "text": [
      "Frequencies of structured elements in each cluster\n",
      "([{0: 1, 2: 5, 3: 5, 4: 5, 5: 5, 6: 5, 7: 5, 8: 5, 9: 5, 10: 5, 11: 5, 12: 5, 14: 1, 15: 1, 16: 1}, {0: 1, 1: 1, 3: 5, 4: 5, 5: 5, 6: 5, 7: 5, 8: 5, 9: 5, 10: 5, 11: 5, 12: 5, 13: 5, 15: 1, 16: 1}, {0: 1, 1: 1, 2: 1, 4: 5, 5: 5, 6: 5, 7: 5, 8: 5, 9: 5, 10: 5, 11: 5, 12: 5, 13: 5, 14: 5, 16: 1}, {0: 1, 1: 1, 2: 1, 3: 1, 5: 5, 6: 5, 7: 5, 8: 5, 9: 5, 10: 5, 11: 5, 12: 5, 13: 5, 14: 5, 15: 5}, {0: 1, 6: 1, 7: 1, 8: 1, 9: 1, 10: 1, 11: 1, 12: 1, 13: 1, 14: 1, 15: 1, 16: 1}, {1: 1, 2: 1, 3: 1, 4: 1, 6: 5, 7: 5, 8: 5, 9: 5, 10: 5, 11: 5, 12: 5, 13: 5, 14: 5, 15: 5, 16: 5}, {0: 6, 1: 6, 2: 6, 3: 6, 4: 6, 5: 6, 6: 6, 7: 6, 8: 6, 9: 6, 10: 6, 12: 1, 13: 1, 14: 1, 15: 1, 16: 1}, {1: 5, 2: 5, 3: 5, 4: 5, 5: 5, 6: 5, 7: 5, 8: 5, 9: 5, 10: 5, 11: 5, 13: 1, 14: 1, 15: 1, 16: 1}], {131: {0: 1, 2: 5, 3: 5, 4: 5, 5: 5, 6: 5, 7: 5, 8: 5, 9: 5, 10: 5, 11: 5, 12: 5, 14: 1, 15: 1, 16: 1}, 155: {0: 1, 1: 1, 3: 5, 4: 5, 5: 5, 6: 5, 7: 5, 8: 5, 9: 5, 10: 5, 11: 5, 12: 5, 13: 5, 15: 1, 16: 1}, 168: {0: 1, 1: 1, 2: 1, 4: 5, 5: 5, 6: 5, 7: 5, 8: 5, 9: 5, 10: 5, 11: 5, 12: 5, 13: 5, 14: 5, 16: 1}, 170: {0: 1, 1: 1, 2: 1, 3: 1, 5: 5, 6: 5, 7: 5, 8: 5, 9: 5, 10: 5, 11: 5, 12: 5, 13: 5, 14: 5, 15: 5}, 4: {0: 1, 6: 1, 7: 1, 8: 1, 9: 1, 10: 1, 11: 1, 12: 1, 13: 1, 14: 1, 15: 1, 16: 1}, 171: {1: 1, 2: 1, 3: 1, 4: 1, 6: 5, 7: 5, 8: 5, 9: 5, 10: 5, 11: 5, 12: 5, 13: 5, 14: 5, 15: 5, 16: 5}, 50: {0: 6, 1: 6, 2: 6, 3: 6, 4: 6, 5: 6, 6: 6, 7: 6, 8: 6, 9: 6, 10: 6, 12: 1, 13: 1, 14: 1, 15: 1, 16: 1}, 96: {1: 5, 2: 5, 3: 5, 4: 5, 5: 5, 6: 5, 7: 5, 8: 5, 9: 5, 10: 5, 11: 5, 13: 1, 14: 1, 15: 1, 16: 1}})\n"
     ]
    },
    {
     "ename": "ValueError",
     "evalue": "Length of values (2) does not match length of index (8)",
     "output_type": "error",
     "traceback": [
      "\u001b[0;31m---------------------------------------------------------------------------\u001b[0m",
      "\u001b[0;31mValueError\u001b[0m                                Traceback (most recent call last)",
      "Input \u001b[0;32mIn [102]\u001b[0m, in \u001b[0;36m<cell line: 20>\u001b[0;34m()\u001b[0m\n\u001b[1;32m     18\u001b[0m \u001b[38;5;28mprint\u001b[39m(\u001b[38;5;124m\"\u001b[39m\u001b[38;5;124mFrequencies of structured elements in each cluster\u001b[39m\u001b[38;5;124m\"\u001b[39m)\n\u001b[1;32m     19\u001b[0m \u001b[38;5;28mprint\u001b[39m(centers_struct_elem_freq)\n\u001b[0;32m---> 20\u001b[0m centers_g_vals[\u001b[38;5;124m'\u001b[39m\u001b[38;5;124mfrequency\u001b[39m\u001b[38;5;124m'\u001b[39m] \u001b[38;5;241m=\u001b[39m centers_struct_elem_freq\n\u001b[1;32m     21\u001b[0m display(centers_g_vals)\n",
      "File \u001b[0;32m~/.pyenv/versions/anaconda3-2022.10/lib/python3.9/site-packages/pandas/core/frame.py:3655\u001b[0m, in \u001b[0;36mDataFrame.__setitem__\u001b[0;34m(self, key, value)\u001b[0m\n\u001b[1;32m   3652\u001b[0m     \u001b[38;5;28mself\u001b[39m\u001b[38;5;241m.\u001b[39m_setitem_array([key], value)\n\u001b[1;32m   3653\u001b[0m \u001b[38;5;28;01melse\u001b[39;00m:\n\u001b[1;32m   3654\u001b[0m     \u001b[38;5;66;03m# set column\u001b[39;00m\n\u001b[0;32m-> 3655\u001b[0m     \u001b[38;5;28;43mself\u001b[39;49m\u001b[38;5;241;43m.\u001b[39;49m\u001b[43m_set_item\u001b[49m\u001b[43m(\u001b[49m\u001b[43mkey\u001b[49m\u001b[43m,\u001b[49m\u001b[43m \u001b[49m\u001b[43mvalue\u001b[49m\u001b[43m)\u001b[49m\n",
      "File \u001b[0;32m~/.pyenv/versions/anaconda3-2022.10/lib/python3.9/site-packages/pandas/core/frame.py:3832\u001b[0m, in \u001b[0;36mDataFrame._set_item\u001b[0;34m(self, key, value)\u001b[0m\n\u001b[1;32m   3822\u001b[0m \u001b[38;5;28;01mdef\u001b[39;00m \u001b[38;5;21m_set_item\u001b[39m(\u001b[38;5;28mself\u001b[39m, key, value) \u001b[38;5;241m-\u001b[39m\u001b[38;5;241m>\u001b[39m \u001b[38;5;28;01mNone\u001b[39;00m:\n\u001b[1;32m   3823\u001b[0m \u001b[38;5;250m    \u001b[39m\u001b[38;5;124;03m\"\"\"\u001b[39;00m\n\u001b[1;32m   3824\u001b[0m \u001b[38;5;124;03m    Add series to DataFrame in specified column.\u001b[39;00m\n\u001b[1;32m   3825\u001b[0m \n\u001b[0;32m   (...)\u001b[0m\n\u001b[1;32m   3830\u001b[0m \u001b[38;5;124;03m    ensure homogeneity.\u001b[39;00m\n\u001b[1;32m   3831\u001b[0m \u001b[38;5;124;03m    \"\"\"\u001b[39;00m\n\u001b[0;32m-> 3832\u001b[0m     value \u001b[38;5;241m=\u001b[39m \u001b[38;5;28;43mself\u001b[39;49m\u001b[38;5;241;43m.\u001b[39;49m\u001b[43m_sanitize_column\u001b[49m\u001b[43m(\u001b[49m\u001b[43mvalue\u001b[49m\u001b[43m)\u001b[49m\n\u001b[1;32m   3834\u001b[0m     \u001b[38;5;28;01mif\u001b[39;00m (\n\u001b[1;32m   3835\u001b[0m         key \u001b[38;5;129;01min\u001b[39;00m \u001b[38;5;28mself\u001b[39m\u001b[38;5;241m.\u001b[39mcolumns\n\u001b[1;32m   3836\u001b[0m         \u001b[38;5;129;01mand\u001b[39;00m value\u001b[38;5;241m.\u001b[39mndim \u001b[38;5;241m==\u001b[39m \u001b[38;5;241m1\u001b[39m\n\u001b[1;32m   3837\u001b[0m         \u001b[38;5;129;01mand\u001b[39;00m \u001b[38;5;129;01mnot\u001b[39;00m is_extension_array_dtype(value)\n\u001b[1;32m   3838\u001b[0m     ):\n\u001b[1;32m   3839\u001b[0m         \u001b[38;5;66;03m# broadcast across multiple columns if necessary\u001b[39;00m\n\u001b[1;32m   3840\u001b[0m         \u001b[38;5;28;01mif\u001b[39;00m \u001b[38;5;129;01mnot\u001b[39;00m \u001b[38;5;28mself\u001b[39m\u001b[38;5;241m.\u001b[39mcolumns\u001b[38;5;241m.\u001b[39mis_unique \u001b[38;5;129;01mor\u001b[39;00m \u001b[38;5;28misinstance\u001b[39m(\u001b[38;5;28mself\u001b[39m\u001b[38;5;241m.\u001b[39mcolumns, MultiIndex):\n",
      "File \u001b[0;32m~/.pyenv/versions/anaconda3-2022.10/lib/python3.9/site-packages/pandas/core/frame.py:4538\u001b[0m, in \u001b[0;36mDataFrame._sanitize_column\u001b[0;34m(self, value)\u001b[0m\n\u001b[1;32m   4535\u001b[0m     \u001b[38;5;28;01mreturn\u001b[39;00m _reindex_for_setitem(value, \u001b[38;5;28mself\u001b[39m\u001b[38;5;241m.\u001b[39mindex)\n\u001b[1;32m   4537\u001b[0m \u001b[38;5;28;01mif\u001b[39;00m is_list_like(value):\n\u001b[0;32m-> 4538\u001b[0m     \u001b[43mcom\u001b[49m\u001b[38;5;241;43m.\u001b[39;49m\u001b[43mrequire_length_match\u001b[49m\u001b[43m(\u001b[49m\u001b[43mvalue\u001b[49m\u001b[43m,\u001b[49m\u001b[43m \u001b[49m\u001b[38;5;28;43mself\u001b[39;49m\u001b[38;5;241;43m.\u001b[39;49m\u001b[43mindex\u001b[49m\u001b[43m)\u001b[49m\n\u001b[1;32m   4539\u001b[0m \u001b[38;5;28;01mreturn\u001b[39;00m sanitize_array(value, \u001b[38;5;28mself\u001b[39m\u001b[38;5;241m.\u001b[39mindex, copy\u001b[38;5;241m=\u001b[39m\u001b[38;5;28;01mTrue\u001b[39;00m, allow_2d\u001b[38;5;241m=\u001b[39m\u001b[38;5;28;01mTrue\u001b[39;00m)\n",
      "File \u001b[0;32m~/.pyenv/versions/anaconda3-2022.10/lib/python3.9/site-packages/pandas/core/common.py:557\u001b[0m, in \u001b[0;36mrequire_length_match\u001b[0;34m(data, index)\u001b[0m\n\u001b[1;32m    553\u001b[0m \u001b[38;5;250m\u001b[39m\u001b[38;5;124;03m\"\"\"\u001b[39;00m\n\u001b[1;32m    554\u001b[0m \u001b[38;5;124;03mCheck the length of data matches the length of the index.\u001b[39;00m\n\u001b[1;32m    555\u001b[0m \u001b[38;5;124;03m\"\"\"\u001b[39;00m\n\u001b[1;32m    556\u001b[0m \u001b[38;5;28;01mif\u001b[39;00m \u001b[38;5;28mlen\u001b[39m(data) \u001b[38;5;241m!=\u001b[39m \u001b[38;5;28mlen\u001b[39m(index):\n\u001b[0;32m--> 557\u001b[0m     \u001b[38;5;28;01mraise\u001b[39;00m \u001b[38;5;167;01mValueError\u001b[39;00m(\n\u001b[1;32m    558\u001b[0m         \u001b[38;5;124m\"\u001b[39m\u001b[38;5;124mLength of values \u001b[39m\u001b[38;5;124m\"\u001b[39m\n\u001b[1;32m    559\u001b[0m         \u001b[38;5;124mf\u001b[39m\u001b[38;5;124m\"\u001b[39m\u001b[38;5;124m(\u001b[39m\u001b[38;5;132;01m{\u001b[39;00m\u001b[38;5;28mlen\u001b[39m(data)\u001b[38;5;132;01m}\u001b[39;00m\u001b[38;5;124m) \u001b[39m\u001b[38;5;124m\"\u001b[39m\n\u001b[1;32m    560\u001b[0m         \u001b[38;5;124m\"\u001b[39m\u001b[38;5;124mdoes not match length of index \u001b[39m\u001b[38;5;124m\"\u001b[39m\n\u001b[1;32m    561\u001b[0m         \u001b[38;5;124mf\u001b[39m\u001b[38;5;124m\"\u001b[39m\u001b[38;5;124m(\u001b[39m\u001b[38;5;132;01m{\u001b[39;00m\u001b[38;5;28mlen\u001b[39m(index)\u001b[38;5;132;01m}\u001b[39;00m\u001b[38;5;124m)\u001b[39m\u001b[38;5;124m\"\u001b[39m\n\u001b[1;32m    562\u001b[0m     )\n",
      "\u001b[0;31mValueError\u001b[0m: Length of values (2) does not match length of index (8)"
     ]
    }
   ],
   "source": [
    "# calculating frequencies of structured elements in each community\n",
    "def get_struct_elem_freq(communities, struct_elem_list) -> list:\n",
    "    struct_elem_freq = []\n",
    "    struct_elem_dict_center = {}\n",
    "    for comm in communities:\n",
    "        temp = []\n",
    "        center = nx.center(G.subgraph(comm))\n",
    "        # for each center, get the counts of structured elements in the cluster\n",
    "        for node in comm:\n",
    "            temp += struct_elem_list[node]\n",
    "        \n",
    "        struct_elem_freq.append({i: temp.count(i) for i in set(temp)})\n",
    "        struct_elem_dict_center[center[0]] = struct_elem_freq[-1]\n",
    "    return struct_elem_freq, struct_elem_dict_center\n",
    "\n",
    "centers_struct_elem_freq = get_struct_elem_freq(communities, struct_elem_list)\n",
    "\n",
    "print(\"Frequencies of structured elements in each cluster\")\n",
    "print(centers_struct_elem_freq)\n",
    "centers_g_vals['frequency'] = centers_struct_elem_freq\n",
    "display(centers_g_vals)"
   ]
  },
  {
   "cell_type": "code",
   "execution_count": null,
   "metadata": {},
   "outputs": [
    {
     "name": "stdout",
     "output_type": "stream",
     "text": [
      "Error: 1.9387045606711586e-26\n",
      "1.9387045606711586e-26\n"
     ]
    },
    {
     "data": {
      "image/png": "[encoded data removed]",
      "text/plain": [
       "<Figure size 640x440 with 1 Axes>"
      ]
     },
     "metadata": {},
     "output_type": "display_data"
    }
   ],
   "source": [
    "from sklearn.tree import DecisionTreeRegressor\n",
    "\n",
    "def create_comb_mat(struct_elem_list, N_PLANES) -> np.array:\n",
    "    n = len(struct_elem_list)\n",
    "    comb_mat = np.zeros((n, N_PLANES+1))\n",
    "    for i in range(n):\n",
    "        for elem in struct_elem_list[i]:\n",
    "            comb_mat[i][elem] = 1\n",
    "    return comb_mat\n",
    "\n",
    "comb_mat = create_comb_mat(struct_elem_list, N_PLANES)\n",
    "# print(comb_mat)\n",
    "\n",
    "def solve_for_weights(comb_mat, g_part) -> np.array:\n",
    "    np.random.seed(0)\n",
    "    model = DecisionTreeRegressor(max_depth=15)\n",
    "    model.fit(comb_mat, g_part)\n",
    "    \n",
    "    # error calculation\n",
    "    error = np.sum(np.square(g_part - model.predict(comb_mat)))\n",
    "    weights = model.feature_importances_\n",
    "    residuals = error\n",
    "    print(f'Error: {error}')\n",
    "\n",
    "    return weights, residuals\n",
    "\n",
    "weights, residuals = solve_for_weights(comb_mat, min_g_vals_groups.g_part)\n",
    "print(residuals)\n",
    "\n",
    "def plot_weights(weights, id, save = False):\n",
    "    plt.plot(weights)\n",
    "    plt.xlabel('structured element')\n",
    "    plt.ylabel('weights')\n",
    "    plt.title(f'Weights for PDB ID: {id}')\n",
    "    plt.grid()\n",
    "    if save:\n",
    "        plt.savefig(f'../plots/weights_{id}.jpg')\n",
    "    plt.show()\n",
    "\n",
    "plot_weights(weights, id, save = False)"
   ]
  },
  {
   "cell_type": "code",
   "execution_count": null,
   "metadata": {},
   "outputs": [],
   "source": [
    "def generate_distribution(min_g_vals_groups, z_planes):\n",
    "    arr_dist = []\n",
    "    for group in min_g_vals_groups:\n",
    "        order_arr = np.zeros(len(z_planes)+1).astype(int)\n",
    "        for row in group.iterrows():\n",
    "            s1 = int(row[1].start1)\n",
    "            e1 = int(row[1].end1)\n",
    "            s2 = int(row[1].start2)\n",
    "            e2 = int(row[1].end2)\n",
    "\n",
    "            if row[1].type == 1:\n",
    "                i = s1\n",
    "                while i <= e1:\n",
    "                    order_arr[i] += 1\n",
    "                    i += 1\n",
    "            \n",
    "            if row[1].type == 2:\n",
    "                i = s1\n",
    "                while i <= e1:\n",
    "                    order_arr[i] += 1\n",
    "                    i += 1\n",
    "                i = s2\n",
    "                while i <= e2:\n",
    "                    order_arr[i] += 1\n",
    "                    i += 1\n",
    "    \n",
    "        arr_dist.append(order_arr)\n",
    "    \n",
    "    return arr_dist"
   ]
  },
  {
   "cell_type": "code",
   "execution_count": null,
   "metadata": {},
   "outputs": [],
   "source": [
    "# #  generate the distribution of interacting blocks\n",
    "# arr_dist = generate_distribution(min_g_vals_groups, z_planes)\n",
    "# plt.figure()\n",
    "# for arr in arr_dist:\n",
    "#     plt.plot(arr)\n",
    "# plt.xlabel('Blocks')\n",
    "# plt.ylabel('Frequency')\n",
    "# plt.title('Distribution of interacting blocks in groups with minimum free energy values')"
   ]
  },
  {
   "cell_type": "code",
   "execution_count": null,
   "metadata": {},
   "outputs": [],
   "source": [
    "'''\n",
    "Finding the occurrence of each interacting block in the groups with minimum free energy values\n",
    "This will give a good idea of the favourably interacting blocks. \n",
    "'''\n",
    "group = min_g_vals_groups\n",
    "int_blocks = []\n",
    "for row in group.iterrows():\n",
    "    row = row[1].astype(int)\n",
    "    seq1 = list(range(row.start1, row.end1+1))\n",
    "    seq2 = list(range(row.start2, row.end2+1))\n",
    "    if len(seq1) != (row.struct_elem +1) and len(seq2) != (row.struct_elem + 1):\n",
    "        int_blocks += [seq1, seq2]\n",
    "    else:\n",
    "        if len(seq1) == row.struct_elem + 1:\n",
    "            int_blocks += [seq1]\n",
    "        else:\n",
    "            int_blocks += [seq2]\n",
    "        # print(int_blocks)\n",
    "\n",
    "freq = np.zeros(len(z_planes)+1).astype(int)\n",
    "\n",
    "for block in int_blocks:\n",
    "    for elem in block:\n",
    "        freq[elem] += 1"
   ]
  },
  {
   "cell_type": "code",
   "execution_count": null,
   "metadata": {},
   "outputs": [
    {
     "name": "stdout",
     "output_type": "stream",
     "text": [
      "For Electrostatic interactions: \n",
      "Residues frequently observed to be interacting in the lowest energy state in chain 1 dict_keys([273, 350, 354, 141, 144, 149, 150, 153, 154, 162, 178, 288, 34, 36, 232, 239, 242, 248, 252, 271, 136, 412, 42, 176, 179, 320, 347, 351, 427, 348, 282])\n",
      "Residues frequently observed to be interacting in the lowest energy state in chain 2 dict_keys([36, 412, 176, 178, 150, 154, 273, 232, 282, 34, 136, 354, 347, 348, 288, 141, 144, 142, 271, 42, 427, 179, 350, 252])\n",
      "-----------------------------------\n",
      "For Van der Waals interactions: \n",
      "Atoms frequently observed to be interacting in the lowest energy state in chain 1 dict_keys([273, 350, 354, 141, 144, 149, 150, 153, 154, 162, 178, 288, 34, 36, 232, 239, 242, 248, 252, 271, 136, 412, 42, 176, 179, 320, 347, 351, 427, 348, 282])\n",
      "Atoms frequently observed to be interacting in the lowest energy state in chain 2 dict_keys([36, 412, 176, 178, 150, 154, 273, 232, 282, 34, 136, 354, 347, 348, 288, 141, 144, 142, 271, 42, 427, 179, 350, 252])\n",
      "-----------------------------------\n"
     ]
    }
   ],
   "source": [
    "freq_dict = {}\n",
    "for i in range(len(freq)):\n",
    "    freq_dict[i] = freq[i]\n",
    "\n",
    "freq_dict = dict(sorted(freq_dict.items(), key=lambda x: x[1], reverse=True))\n",
    "\n",
    "highest_freq_dict = list(freq_dict.items())[:10]\n",
    "\n",
    "def max_freq_residues(highest_freq_dict):\n",
    "    max_freq_residues_ch1 = []\n",
    "    max_freq_residues_ch2 = []\n",
    "\n",
    "    for elem, _ in highest_freq_dict:\n",
    "        block1 = (interchain_intr.loc[interchain_intr.section == elem]).atom1_resnum\n",
    "        block2 = (interchain_intr.loc[interchain_intr.section == elem]).atom2_resnum\n",
    "        if block1.empty or block2.empty:\n",
    "            continue\n",
    "        max_freq_residues_ch1 += list(block1)\n",
    "        max_freq_residues_ch2 += list(block2)\n",
    "\n",
    "    return max_freq_residues_ch1, max_freq_residues_ch2\n",
    "\n",
    "max_freq_residues_elec1, max_freq_residues_elec2 = max_freq_residues(highest_freq_dict)\n",
    "max_freq_residues_vdw1, max_freq_residues_vdw2 = max_freq_residues(highest_freq_dict)\n",
    "\n",
    "#  find frequency of each residue in the interacting blocks with highest frequencies\n",
    "\n",
    "def count_residue_frequencies_elec(max_freq_residues_elec1, max_freq_residues_elec2):\n",
    "    res_freq_elec1 = {}\n",
    "    for res in max_freq_residues_elec1:\n",
    "        if res in res_freq_elec1:\n",
    "            res_freq_elec1[res] += 1\n",
    "        else:\n",
    "            res_freq_elec1[res] = 1\n",
    "\n",
    "    res_freq_elec2 = {}\n",
    "    for res in max_freq_residues_elec2:\n",
    "        if res in res_freq_elec2:\n",
    "            res_freq_elec2[res] += 1\n",
    "        else:\n",
    "            res_freq_elec2[res] = 1\n",
    "\n",
    "    res_freq_elec_sorted1 = dict(sorted(res_freq_elec1.items(), key=lambda x: x[1], reverse=True))\n",
    "    res_freq_elec_sorted2 = dict(sorted(res_freq_elec2.items(), key = lambda x: x[1], reverse = True))\n",
    "    return res_freq_elec1,res_freq_elec2\n",
    "\n",
    "res_freq_elec1, res_freq_elec2 = count_residue_frequencies_elec(max_freq_residues_elec1, max_freq_residues_elec2)\n",
    "\n",
    "print(\"For Electrostatic interactions: \")\n",
    "print(f'Residues frequently observed to be interacting in the lowest energy state in chain 1 {res_freq_elec1.keys()}')\n",
    "print(f'Residues frequently observed to be interacting in the lowest energy state in chain 2 {res_freq_elec2.keys()}')\n",
    "print('-----------------------------------')\n",
    "\n",
    "def count_residue_frequencies_vdw(max_freq_residues_vdw1, max_freq_residues_vdw2):\n",
    "    res_freq_vdw1 = {}\n",
    "    for res in max_freq_residues_vdw1:\n",
    "        if res in res_freq_vdw1:\n",
    "            res_freq_vdw1[res] += 1\n",
    "        else:\n",
    "            res_freq_vdw1[res] = 1\n",
    "\n",
    "    res_freq_vdw2 = {}\n",
    "    for res in max_freq_residues_vdw2:\n",
    "        if res in res_freq_vdw2:\n",
    "            res_freq_vdw2[res] += 1\n",
    "        else:\n",
    "            res_freq_vdw2[res] = 1\n",
    "\n",
    "    # res_freq_vdw_sorted1 = dict(sorted(res_freq_vdw1.items(), key = lambda x: x[1], reverse = True))\n",
    "    # res_freq_vdw_sorted2 = dict(sorted(res_freq_vdw2.items(), key = lambda x: x[1], reverse = True))\n",
    "    return res_freq_vdw1,res_freq_vdw2\n",
    "\n",
    "res_freq_vdw1, res_freq_vdw2 = count_residue_frequencies_vdw(max_freq_residues_vdw1, max_freq_residues_vdw2)\n",
    "\n",
    "print('For Van der Waals interactions: ')\n",
    "print(f'Atoms frequently observed to be interacting in the lowest energy state in chain 1 {res_freq_vdw1.keys()}')\n",
    "print(f'Atoms frequently observed to be interacting in the lowest energy state in chain 2 {res_freq_vdw2.keys()}')\n",
    "print('-----------------------------------')"
   ]
  },
  {
   "cell_type": "code",
   "execution_count": null,
   "metadata": {},
   "outputs": [
    {
     "data": {
      "image/png": "[encoded data removed]",
      "text/plain": [
       "<Figure size 640x440 with 1 Axes>"
      ]
     },
     "metadata": {},
     "output_type": "display_data"
    },
    {
     "data": {
      "image/png": "[encoded data removed]",
      "text/plain": [
       "<Figure size 640x440 with 1 Axes>"
      ]
     },
     "metadata": {},
     "output_type": "display_data"
    }
   ],
   "source": [
    "plt.bar(list(res_freq_vdw1.keys()), list(res_freq_vdw1.values()), color='r', label='vdw1')\n",
    "plt.bar(list(res_freq_elec1.keys()), list(res_freq_elec1.values()), color='b', label='elec1')\n",
    "\n",
    "plt.title('Chain 1 high frequency interacting residues')\n",
    "plt.ylabel('Frequency')\n",
    "plt.xlabel('residue numbers')\n",
    "plt.legend()\n",
    "plt.show()\n",
    "\n",
    "plt.bar(list(res_freq_vdw2.keys()), list(res_freq_vdw2.values()), color='r', label='vdw2')\n",
    "plt.bar(list(res_freq_elec2.keys()), list(res_freq_elec2.values()), color='b', label='elec2')\n",
    "\n",
    "plt.title('Chain 2 high frequency interacting residues')\n",
    "plt.ylabel('Frequency')\n",
    "plt.xlabel('residue numbers')\n",
    "plt.legend()\n",
    "plt.show()\n"
   ]
  },
  {
   "cell_type": "code",
   "execution_count": null,
   "metadata": {},
   "outputs": [],
   "source": [
    "def get_block_g_vals(id, min_g_vals_struct_elems):\n",
    "   master_matrix = pd.read_csv(f'../master_matrix/master_matrix_{id}.csv')\n",
    "   min_FE_macrostate = min_g_vals_struct_elems[0]\n",
    "   min_FE_group = master_matrix.groupby('struct_elem').get_group(min_FE_macrostate)\n",
    "\n",
    "   blockwise_sw = {}\n",
    "   total_sw = 0\n",
    "   TEMP = 300\n",
    "   R = 8.314/1000\n",
    "\n",
    "   for i in range(len(min_FE_group)):\n",
    "      row = min_FE_group.iloc[i]\n",
    "      \n",
    "      s1 = row.start1\n",
    "      s2 = row.start2\n",
    "      e1 = row.end1\n",
    "      e2 = row.end2\n",
    "      arr_type = row.type\n",
    "      sw_part = row.sw_part\n",
    "      total_sw += sw_part\n",
    "\n",
    "      if arr_type == 1:\n",
    "         i = s1\n",
    "         while i <= e1:\n",
    "            if i in blockwise_sw.keys():\n",
    "               blockwise_sw[i] += sw_part\n",
    "            else:\n",
    "               blockwise_sw[i] = sw_part\n",
    "            i+=1\n",
    "      \n",
    "      if arr_type == 2:\n",
    "         i = s1\n",
    "         while i <= e1:\n",
    "            if i in blockwise_sw.keys():\n",
    "               blockwise_sw[i] += sw_part\n",
    "            else:\n",
    "               blockwise_sw[i] = sw_part\n",
    "            i+=1\n",
    "         i = s2\n",
    "         while i <= e2:\n",
    "            if i in blockwise_sw.keys():\n",
    "               blockwise_sw[i] += sw_part\n",
    "            else:\n",
    "               blockwise_sw[i] = sw_part\n",
    "            i+=1\n",
    "\n",
    "   blockwise_g_vals = {}\n",
    "   for i in blockwise_sw.keys():\n",
    "      blockwise_g_vals[i] = -R*TEMP*math.log(blockwise_sw[i] / total_sw)\n",
    "   \n",
    "   blockwise_g_vals = dict(sorted(blockwise_g_vals.items(), key = lambda x: x[0]))\n",
    "   return blockwise_g_vals\n"
   ]
  },
  {
   "cell_type": "code",
   "execution_count": null,
   "metadata": {},
   "outputs": [],
   "source": [
    "import pandas as pd\n",
    "import numpy as np\n",
    "from collections import defaultdict\n",
    "\n",
    "def get_block_g_vals2(id, min_g_vals_struct_elems):\n",
    "    master_matrix = pd.read_csv(f'./master_matrices/{id}_master_matrix.csv')\n",
    "    min_FE_macrostate = min_g_vals_struct_elems\n",
    "    # If min_FE_macrostate is a list/set, we need to handle all values\n",
    "    # Convert set to list if needed\n",
    "    if isinstance(min_FE_macrostate, (list, set)):\n",
    "        if len(min_FE_macrostate) > 0:\n",
    "            # Get the first element if there are any\n",
    "            min_FE_macrostate = list(min_FE_macrostate)[0]\n",
    "        else:\n",
    "            # If empty, look for the minimum free energy element in the data\n",
    "            sw_sums = master_matrix.groupby('struct_elem')['sw_part'].sum()\n",
    "            min_FE_macrostate = sw_sums.idxmax()\n",
    "    \n",
    "    min_FE_group = master_matrix[master_matrix['struct_elem'] == min_FE_macrostate]\n",
    "\n",
    "    TEMP = 300\n",
    "    R = 8.314/1000\n",
    "    \n",
    "    blockwise_sw = defaultdict(float)\n",
    "    total_sw = 0\n",
    "\n",
    "    for _, row in min_FE_group.iterrows():\n",
    "        sw_part = row['sw_part']\n",
    "        total_sw += sw_part\n",
    "\n",
    "        ranges = [(row['start1'], row['end1'])]\n",
    "        if row['type'] == 2:\n",
    "            ranges.append((row['start2'], row['end2']))\n",
    "\n",
    "        for start, end in ranges:\n",
    "            for i in range(int(start), int(end) + 1):\n",
    "                blockwise_sw[i] += sw_part\n",
    "\n",
    "    log_total_sw = np.log(total_sw)\n",
    "    blockwise_g_vals = {\n",
    "        i: -R * TEMP * (np.log(sw) - log_total_sw)\n",
    "        for i, sw in blockwise_sw.items()\n",
    "    }\n",
    "\n",
    "    return dict(sorted(blockwise_g_vals.items()))\n"
   ]
  },
  {
   "cell_type": "code",
   "execution_count": null,
   "metadata": {},
   "outputs": [
    {
     "data": {
      "image/png": "[encoded data removed]",
      "text/plain": [
       "<Figure size 640x440 with 1 Axes>"
      ]
     },
     "metadata": {},
     "output_type": "display_data"
    }
   ],
   "source": [
    "block_g_vals = get_block_g_vals2(id, list(min_g_vals_struct_elems))\n",
    "\n",
    "plt.plot(block_g_vals.keys(), block_g_vals.values())    \n",
    "plt.title(f\"G value for each block for PDB: {id}\")\n",
    "plt.xlabel('block number')\n",
    "plt.ylabel('FE (kJ/mol)')\n",
    "plt.savefig(f'blockwise_FE/blockwise_{id}.jpg')\n",
    "plt.show()"
   ]
  },
  {
   "cell_type": "code",
   "execution_count": null,
   "metadata": {},
   "outputs": [
    {
     "name": "stdout",
     "output_type": "stream",
     "text": [
      "Modified pdb file ../mod_pdb_files/1OJA_mod.pdb\n"
     ]
    }
   ],
   "source": [
    "res_elec_list = list(res_freq_elec1.keys()) + list(res_freq_elec2.keys())\n",
    "res_elec_list = list(set(res_elec_list))\n",
    "\n",
    "res_vdw_list = list(res_freq_vdw1.keys()) + list(res_freq_vdw2.keys())\n",
    "res_vdw_list = list(set(res_vdw_list))\n",
    "\n",
    "res_list = list(set(res_elec_list + res_vdw_list))\n",
    "\n",
    "def make_mod_pdb_file(id):\n",
    "    file = f'{id}.pdb'\n",
    "    with open(file, 'r') as f:\n",
    "        lines = f.readlines()\n",
    "    f.close()\n",
    "\n",
    "    # make a new pdb file with _mod suffix\n",
    "    if not os.path.exists('../mod_pdb_files'):\n",
    "        os.makedirs('../mod_pdb_files', exist_ok=True)\n",
    "    \n",
    "    with open(f'../mod_pdb_files/{id}_mod.pdb', 'w') as f:\n",
    "        for line in lines:\n",
    "            f.write(line)\n",
    "    f.close()\n",
    "\n",
    "    return f'../mod_pdb_files/{id}_mod.pdb'\n",
    "\n",
    "def modify_pdb(res_list, pdb_file_path):\n",
    "\n",
    "    pandaspdb_obj = pandaspdb.PandasPdb()\n",
    "    pandaspdb_obj.read_pdb(pdb_file_path)\n",
    "    df = pandaspdb_obj.df['ATOM']\n",
    "    pdb_id = pdb_file_path.split('/')[-1].split('.')[0]\n",
    "    # generate a dict of the z-range for each section\n",
    "    z_range = {}\n",
    "    for i in range(len(z_planes)-1):\n",
    "        z_range[i] = (z_planes[i], z_planes[i+1])\n",
    "\n",
    "    for row in df.iterrows():\n",
    "        if row[1].residue_number in res_list:\n",
    "            z = row[1].z_coord\n",
    "            for key in z_range.keys():\n",
    "                if z_range[key][0] <= z <= z_range[key][1]:\n",
    "                    if key in block_g_vals.keys():\n",
    "                        df.at[row[0], 'b_factor'] = block_g_vals[key]\n",
    "                    else:\n",
    "                        df.at[row[0], 'b_factor'] = 99.99\n",
    "                    break\n",
    "\n",
    "    if not os.path.exists('../mod_pdb_files'):\n",
    "        os.makedirs('../mod_pdb_files', exist_ok=True)\n",
    "\n",
    "    mod_file_path = f'../mod_pdb_files/{pdb_id}_mod.pdb'\n",
    "\n",
    "    pandaspdb_obj.df['ATOM'] = df\n",
    "    pandaspdb_obj.to_pdb(mod_file_path, records=None)\n",
    "    \n",
    "    return mod_file_path\n",
    "\n",
    "pdb_file_path = modify_pdb(res_list, os.path.join(pdb_file_dir, f'{id}.pdb'))\n",
    "\n",
    "print(f'Modified pdb file {pdb_file_path}')\n"
   ]
  },
  {
   "cell_type": "code",
   "execution_count": null,
   "metadata": {},
   "outputs": [],
   "source": []
  }
 ],
 "metadata": {
  "kernelspec": {
   "display_name": "base",
   "language": "python",
   "name": "python3"
  },
  "language_info": {
   "codemirror_mode": {
    "name": "ipython",
    "version": 3
   },
   "file_extension": ".py",
   "mimetype": "text/x-python",
   "name": "python",
   "nbconvert_exporter": "python",
   "pygments_lexer": "ipython3",
   "version": "3.9.13"
  }
 },
 "nbformat": 4,
 "nbformat_minor": 2
}
