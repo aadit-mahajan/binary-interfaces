{
 "cells": [
  {
   "cell_type": "code",
   "execution_count": 3,
   "metadata": {},
   "outputs": [],
   "source": [
    "import pandas as pd \n",
    "import numpy as np\n",
    "import math\n",
    "import matplotlib.pyplot as plt\n",
    "import biopandas.pdb as pandaspdb\n",
    "import os\n",
    "\n",
    "# Read in the data\n",
    "id = '2zta'            \n",
    "# id = '2m59'\n",
    "# id = '7sk0'    # too many hetatms in this pdb file\n",
    "# id = '7sk1'\n",
    "# id = '1afo' \n",
    "# id = '3cap'\n",
    "# id = '1f88'\n",
    "# id = '3d4i'\n",
    "# id = '1cx8'\n",
    "# id = '7vu5'    \n",
    "# id = '4riw'    # this is not a good model to use (not truly a binary interaction)\n",
    "# id = '3q5w'\n",
    "# id = '2bjn'\n",
    "# id = '6ofj'\n",
    "\n",
    "# change if the protein in transmembrane or cytosolic\n",
    "# dielectric constant for transmembrane = 4\n",
    "# dielectric constant for cytosolic = 29\n",
    "\n",
    "# DIELEC = 4\n",
    "DIELEC = 29\n",
    "\n",
    "N_PLANES = 16               # number of planes used to section the protein in the z-axis\n",
    "\n",
    "pdb_file_dir = 'workflow/pdb_files'\n",
    "interchain_intr_dir = '/Users/aaditmahajan/Documents/year 3/WSME project/workflow/elec_intr_files'\n",
    "vdw_intr_dir = '/Users/aaditmahajan/Documents/year 3/WSME project/workflow/vdw_intr_files'\n",
    "\n",
    "interchain_intr = pd.read_csv(os.path.join(interchain_intr_dir, f'elec_intr_{id}.csv'))\n",
    "vdw_intr = pd.read_csv(os.path.join(vdw_intr_dir, f'vdw_intr_{id}.csv'))\n"
   ]
  },
  {
   "cell_type": "code",
   "execution_count": 4,
   "metadata": {},
   "outputs": [],
   "source": [
    "def generate_z_planes(interchain_intr, N_PLANES) -> list[float]:\n",
    "    z_values = []\n",
    "    for i in range(len(interchain_intr)):\n",
    "        z_values.append(interchain_intr.atom1_zcoord.iloc[i])\n",
    "        z_values.append(interchain_intr.atom2_zcoord.iloc[i])\n",
    "\n",
    "    z_values = np.array(z_values)\n",
    "    z_planes = list(np.linspace(z_values.min(), z_values.max(), N_PLANES))\n",
    "    z_planes.sort()\n",
    "    return z_planes"
   ]
  },
  {
   "cell_type": "code",
   "execution_count": 5,
   "metadata": {},
   "outputs": [],
   "source": [
    "def get_blockdet(z_planes, interchain_intr, vdw_intr) -> np.array:\n",
    "    blockdet = []\n",
    "    for i in range(len(interchain_intr)):\n",
    "        z1 = interchain_intr.atom1_zcoord.iloc[i]\n",
    "        z2 = interchain_intr.atom2_zcoord.iloc[i]\n",
    "        z1_idx = np.digitize(z1, z_planes)\n",
    "        z2_idx = np.digitize(z2, z_planes)\n",
    "        res1 = int(interchain_intr.atom1.iloc[i])\n",
    "        res2 = int(interchain_intr.atom2.iloc[i])\n",
    "        if z1_idx == z2_idx:\n",
    "            blockdet.append((res1, res2, z1_idx))\n",
    "        else:\n",
    "            blockdet.append((res1, res2, z2_idx))\n",
    "    \n",
    "    for i in range(len(vdw_intr)):\n",
    "        z1 = vdw_intr.atom1_zcoord.iloc[i]\n",
    "        z2 = vdw_intr.atom2_zcoord.iloc[i]\n",
    "        z1_idx = np.digitize(z1, z_planes)\n",
    "        z2_idx = np.digitize(z2, z_planes)\n",
    "        res1 = int(vdw_intr.atom1.iloc[i])\n",
    "        res2 = int(vdw_intr.atom2.iloc[i])\n",
    "        if z1_idx == z2_idx:\n",
    "            blockdet.append((res1, res2, z1_idx))\n",
    "        else:\n",
    "            blockdet.append((res1, res2, z2_idx))\n",
    "    \n",
    "    blockdet = np.array(list(set(blockdet)))\n",
    "    blockdet = blockdet[blockdet[:, 2].argsort()]\n",
    "    return blockdet\n",
    "\n",
    "blockdet = get_blockdet(generate_z_planes(interchain_intr, N_PLANES), interchain_intr, vdw_intr)"
   ]
  },
  {
   "cell_type": "code",
   "execution_count": 6,
   "metadata": {},
   "outputs": [],
   "source": [
    "def get_vdw_intr_sections(vdw_intr, section_boundaries) -> pd.DataFrame:\n",
    "    \n",
    "    # generate partitions\n",
    "    part_1 = pd.cut(vdw_intr['atom1_zcoord'], bins=section_boundaries, labels=False)\n",
    "    part_2 = pd.cut(vdw_intr['atom2_zcoord'], bins=section_boundaries, labels=False)\n",
    "\n",
    "    # handle nan values \n",
    "    part_1 = part_1.fillna(-1)\n",
    "    part_2 = part_2.fillna(-1)\n",
    "\n",
    "    # assign section number to the atoms if both atoms are in the same section\n",
    "    for i in range(len(vdw_intr)):\n",
    "        p1 = int(part_1.iloc[i])\n",
    "        p2 = int(part_2.iloc[i])\n",
    "\n",
    "        # if p1 == p2, assign the section number to both atoms, else push to section of atom2\n",
    "        if p1 == p2:\n",
    "            vdw_intr.at[i, 'section'] = p1\n",
    "        else:\n",
    "            vdw_intr.at[i, 'section'] = p2\n",
    "    \n",
    "    return vdw_intr\n",
    "\n",
    "def get_interchain_intr_sections(interchain_intr, section_boundaries) -> pd.DataFrame:\n",
    "    p1 = pd.cut(interchain_intr['atom1_zcoord'], bins=section_boundaries, labels=False)\n",
    "    p2 = pd.cut(interchain_intr['atom2_zcoord'], bins=section_boundaries, labels=False)\n",
    "\n",
    "    # handle nan values \n",
    "    p1 = p1.fillna(-1)\n",
    "    p2 = p2.fillna(-1)\n",
    "    \n",
    "    for i in range(len(interchain_intr)):\n",
    "        p1_val = int(p1.iloc[i])\n",
    "        p2_val = int(p2.iloc[i])\n",
    "\n",
    "        # same logic as above. If both atoms are in the same section, assign the section number to both atoms\n",
    "        if p1_val == p2_val:\n",
    "            interchain_intr.at[i, 'section'] = p1_val\n",
    "        else:\n",
    "            interchain_intr.at[i, 'section'] = p2_val\n",
    "\n",
    "    return interchain_intr\n",
    "\n",
    "def calc_elec_intr_energy(interchain_intr, DIELEC) -> pd.DataFrame:\n",
    "    interchain_intr['intene'] = (332*4.184*interchain_intr['atom1_chg']*interchain_intr['atom2_chg'])/(DIELEC*interchain_intr['distance'])\n",
    "    return interchain_intr"
   ]
  },
  {
   "cell_type": "code",
   "execution_count": 7,
   "metadata": {},
   "outputs": [],
   "source": [
    "# def get_sw_values(master_matrix, elec_intr, vdw_intr, temp) -> pd.DataFrame:\n",
    "    \n",
    "#     vdw_intr_sec_grp = vdw_intr.groupby('section')\n",
    "\n",
    "#     elec_intr_sec_grp = elec_intr.groupby('section')\n",
    "\n",
    "#     VDW_INT_ENE = -77.5/1000 # arbitrary value for now\n",
    "#     DCP = 0 # arbitrary value for now\n",
    "#     T_REF = 385\n",
    "#     # temp = 300\n",
    "#     R = 8.314/1000\n",
    "#     IS = 0.043\n",
    "   \n",
    "#     # sw_partial calculation\n",
    "    \n",
    "#     groups_by_struct_elem = master_matrix.groupby('struct_elem')\n",
    "#     for group in groups_by_struct_elem.groups:\n",
    "\n",
    "#         comb = groups_by_struct_elem.get_group(group)\n",
    "\n",
    "#         for i in range(len(comb)):\n",
    "#             start1 = int(comb.iloc[i].start1)\n",
    "#             end1 = int(comb.iloc[i].end1)\n",
    "#             start2 = int(comb.iloc[i].start2)\n",
    "#             end2 = int(comb.iloc[i].end2)\n",
    "#             comb_type = comb.iloc[i].type\n",
    "#             index = comb.index[i]\n",
    "#             if comb_type == 1:\n",
    "#                 elems_in_comb = list(range(start1, end1+1))\n",
    "#                 # print(elems_in_comb)\n",
    "#             elif comb_type == 2:\n",
    "#                 elems_in_comb = list(range(start1, end1+1)) + list(range(start2, end2+1))\n",
    "            \n",
    "#             elec_intene_tot_part = 0\n",
    "#             vdw_intene_tot_part = 0\n",
    "#             no_of_vdw_part = 0\n",
    "#             for elem in elems_in_comb:\n",
    "#                 try:\n",
    "#                     elec_intene_tot_part += elec_intr_sec_grp.get_group(elem).intene.sum()\n",
    "#                 except KeyError:\n",
    "#                     pass\n",
    "#                 try:\n",
    "#                     vdw_intene_tot_part += len(vdw_intr_sec_grp.get_group(elem))*VDW_INT_ENE\n",
    "#                     no_of_vdw_part += len(vdw_intr_sec_grp.get_group(elem))\n",
    "#                 except KeyError:\n",
    "#                     pass\n",
    "#             ISfac=5.66*math.sqrt(IS/temp)*math.sqrt(80/29)\n",
    "#             elec_intene_tot_part *= math.exp(-ISfac)\n",
    "#             solv_energy = no_of_vdw_part*DCP*(temp - T_REF) - temp*DCP*math.log(temp/T_REF)\n",
    "#             deltaE_part = vdw_intene_tot_part + elec_intene_tot_part + solv_energy\n",
    "#             sw_partial = math.exp(-((deltaE_part)/(R*temp)))\n",
    "            \n",
    "#             master_matrix.at[index, 'sw_part'] = sw_partial\n",
    "            \n",
    "#     return master_matrix"
   ]
  },
  {
   "cell_type": "code",
   "execution_count": 8,
   "metadata": {},
   "outputs": [],
   "source": [
    "import numpy as np\n",
    "import pandas as pd\n",
    "\n",
    "def get_sw_values2(master_matrix, elec_intr, vdw_intr, temp) -> pd.DataFrame:\n",
    "    VDW_INT_ENE = -77.75/1000  \n",
    "    DCP = -0.3112/1000  # arbitrary value for now\n",
    "    T_REF = 385\n",
    "    R = 8.314/1000\n",
    "    IS = 0.043\n",
    "    \n",
    "    # Pre-calculate constants\n",
    "    ISfac = 5.66 * np.sqrt(IS/temp) * np.sqrt(80/29)\n",
    "    exp_ISfac = np.exp(-ISfac)\n",
    "    solv_energy_const = DCP * (temp - T_REF) - temp * DCP * np.log(temp/T_REF)\n",
    "    \n",
    "    # Group data\n",
    "    vdw_intr_sec_grp = vdw_intr.groupby('section')\n",
    "    elec_intr_sec_grp = elec_intr.groupby('section')\n",
    "    \n",
    "    # Pre-calculate sums and counts\n",
    "    elec_sums = elec_intr_sec_grp['intene'].sum()\n",
    "    vdw_counts = vdw_intr_sec_grp.size()\n",
    "    \n",
    "    def calculate_sw_partial(row):\n",
    "        if row['type'] == 1:\n",
    "            elems_in_comb = range(int(row['start1']), int(row['end1'])+1)\n",
    "        else:\n",
    "            elems_in_comb = list(range(int(row['start1']), int(row['end1'])+1)) + list(range(int(row['start2']), int(row['end2'])+1))\n",
    "        \n",
    "        elec_intene_tot_part = sum(elec_sums.get(elem, 0) for elem in elems_in_comb)\n",
    "        vdw_counts_part = sum(vdw_counts.get(elem, 0) for elem in elems_in_comb)\n",
    "        \n",
    "        elec_intene_tot_part *= exp_ISfac\n",
    "        vdw_intene_tot_part = vdw_counts_part * VDW_INT_ENE\n",
    "        solv_energy = vdw_counts_part * solv_energy_const\n",
    "        deltaE_part = vdw_intene_tot_part + elec_intene_tot_part + solv_energy\n",
    "        \n",
    "        return np.exp(-(deltaE_part / (R * temp)))\n",
    "    \n",
    "    master_matrix['sw_part'] = master_matrix.apply(calculate_sw_partial, axis=1)\n",
    "    \n",
    "    return master_matrix\n"
   ]
  },
  {
   "cell_type": "code",
   "execution_count": 9,
   "metadata": {},
   "outputs": [],
   "source": [
    "def generate_master_mat(section_boundaries) -> pd.DataFrame:\n",
    "    n = len(section_boundaries) + 1\n",
    "    master_matrix = pd.DataFrame(columns=['struct_elem', 'sw_part', 'start1', 'end1', 'start2', 'end2', 'type'])\n",
    "    for i in range(n):\n",
    "        for j in range(i, n):\n",
    "            if j-i >= 0:\n",
    "                master_matrix.loc[len(master_matrix)] = [j-i, 0, i, j, 0, 0, 1]\n",
    "            for k in range(j, n):\n",
    "                for l in range(k, n):\n",
    "                    if j-i >= 0 and k-j > 1 and l-k >= 0:\n",
    "                        master_matrix.loc[len(master_matrix)] = [(j-i) + (l-k), 0, i, j, k, l, 2]\n",
    "\n",
    "    return master_matrix\n"
   ]
  },
  {
   "cell_type": "code",
   "execution_count": 10,
   "metadata": {},
   "outputs": [],
   "source": [
    "# Boilerplate code\n",
    "\n",
    "VDW_INT_ENE = 0# arbitrary value for now\n",
    "DCP = 0 # arbitrary value for now\n",
    "T_REF = 385\n",
    "min_temp = 300\n",
    "max_temp = 350\n",
    "temp_step = 5\n",
    "R = 8.314/1000\n",
    "\n",
    "g_vecs = pd.DataFrame()\n",
    "\n",
    "# 1. generate z_planes\n",
    "z_planes = generate_z_planes(interchain_intr, N_PLANES)\n",
    "\n",
    "# 2. generate master_matrix\n",
    "master_matrix = generate_master_mat(z_planes)\n",
    "\n",
    "# 3. get sections for vdw_intr\n",
    "vdw_intr = get_vdw_intr_sections(vdw_intr, z_planes)\n",
    "\n",
    "# 4. get sections for elec_intr\n",
    "interchain_intr = get_interchain_intr_sections(interchain_intr, z_planes)\n",
    "\n",
    "# 5. calculate elec_intr_energy\n",
    "interchain_intr = calc_elec_intr_energy(interchain_intr, DIELEC)\n",
    "\n",
    "# 6. get sw_values\n",
    "for temp in range(min_temp, max_temp + temp_step, temp_step):\n",
    "    fin_master_matrix = get_sw_values2(master_matrix, interchain_intr, vdw_intr, temp)\n",
    "    z_part_total = list(fin_master_matrix.groupby('struct_elem').sw_part.sum())\n",
    "    z_total = sum(z_part_total)\n",
    "    p_vec = [i/z_total for i in z_part_total]\n",
    "    g_vec = [-R*temp*math.log(i) for i in p_vec]\n",
    "    g_vecs[temp] = g_vec\n",
    "\n",
    "# g_vecs\n"
   ]
  },
  {
   "cell_type": "code",
   "execution_count": 11,
   "metadata": {},
   "outputs": [
    {
     "data": {
      "image/png": "[encoded data removed]",
      "text/plain": [
       "<Figure size 640x480 with 1 Axes>"
      ]
     },
     "metadata": {},
     "output_type": "display_data"
    }
   ],
   "source": [
    "def plot_g_vecs(g_vecs, temps, id, save = False):\n",
    "    for temp in temps:\n",
    "        plt.plot(g_vecs[temp])\n",
    "    plt.legend(temps)\n",
    "    plt.title(f'FE curve for PDB ID: {id}')\n",
    "    plt.xlabel('Number of interacting blocks')\n",
    "    plt.ylabel('Free energy (kJ/mol)')\n",
    "    if save:\n",
    "        plt.savefig(f'../plots/FE_curve_{id}.jpg')\n",
    "    plt.show()\n",
    "\n",
    "plot_g_vecs(g_vecs, range(min_temp, max_temp + temp_step, temp_step), id, save = False)\n"
   ]
  },
  {
   "cell_type": "code",
   "execution_count": 12,
   "metadata": {},
   "outputs": [
    {
     "data": {
      "application/vnd.plotly.v1+json": {
       "config": {
        "plotlyServerURL": "https://plot.ly"
       },
       "data": [
        {
         "type": "surface",
         "x": [
          300,
          305,
          310,
          315,
          320,
          325,
          330,
          335,
          340,
          345,
          350
         ],
         "y": [
          1,
          2,
          3,
          4,
          5,
          6,
          7,
          8,
          9,
          10,
          11,
          12,
          13,
          14,
          15,
          16
         ],
         "z": [
          [
           16.83606927708124,
           16.978168779215153,
           17.1187373388241,
           17.25783041656904,
           17.39550112397093,
           17.531800314189297,
           17.666776672143985,
           17.800476803395217,
           17.932945321320492,
           18.06422493223104,
           18.194356518156503
          ],
          [
           13.943829583394725,
           14.061622109350136,
           14.17829755669115,
           14.293892040835798,
           14.408440314617813,
           14.521975810574771,
           14.634530684336697,
           14.746135858606788,
           14.85682106731135,
           14.966614899570502,
           15.07554484320512
          ],
          [
           11.963750242529338,
           12.066804474142675,
           12.169018126037534,
           12.27041704216081,
           12.371026229247809,
           12.470869871347562,
           12.569971346346431,
           12.668353244091763,
           12.766037385766905,
           12.86304484421411,
           12.95939596494211
          ],
          [
           10.148039977685812,
           10.242890259285598,
           10.337055910767306,
           10.430562716754071,
           10.523435207964564,
           10.615696740172435,
           10.707369566731728,
           10.798474905331222,
           10.889032999559545,
           10.979063175792618,
           11.06858389585422
          ],
          [
           8.669803957474866,
           8.761850772940058,
           8.853265495346745,
           8.94407668964822,
           9.03431138315559,
           9.123995163259595,
           9.21315226848115,
           9.301805673257636,
           9.389977166865698,
           9.47768742686969,
           9.564956087469618
          ],
          [
           7.296344983530869,
           7.387463402535213,
           7.478053252870838,
           7.568139750367671,
           7.657746966083102,
           7.7468978710209635,
           7.835614381109607,
           7.923917401983452,
           8.011826873204999,
           8.099361811642375,
           8.186540353782675
          ],
          [
           6.048792288547155,
           6.138396662433899,
           6.227710524941511,
           6.31674856942576,
           6.4055250115881925,
           6.4940535908937465,
           6.582347574466772,
           6.67041976303812,
           6.75828249857162,
           6.845947673247725,
           6.933426739525827
          ],
          [
           5.2173645882612885,
           5.306041111129446,
           5.39465411111788,
           5.483210006228954,
           5.571715158133478,
           5.660175855522498,
           5.74859829986081,
           5.836988593289998,
           5.925352728451748,
           6.013696580023476,
           6.102025897777716
          ],
          [
           4.664148100527208,
           4.75198790383612,
           4.840029438278723,
           4.928272403615471,
           5.0167165491066035,
           5.105361668731636,
           5.194207596727572,
           5.283254203418625,
           5.372501391314858,
           5.461949091460713,
           5.551597260017283
          ],
          [
           4.461320285655643,
           4.550401960003399,
           4.639914082638054,
           4.729851689704699,
           4.820209895906765,
           4.910983901318709,
           5.002168996888879,
           5.093760568774967,
           5.185754101643457,
           5.278145181053766,
           5.370929495037392
          ],
          [
           4.845251682077133,
           4.9404350139221185,
           5.036130716294318,
           5.13233350167371,
           5.229038172227334,
           5.326239625050775,
           5.423932856136985,
           5.5221129632382,
           5.620775147769165,
           5.719914715883954,
           5.819527078844057
          ],
          [
           5.53288076402713,
           5.635890605259621,
           5.739504298618253,
           5.843717256665309,
           5.948524886827155,
           6.0539226016225,
           6.1599058274125165,
           6.266470011855172,
           6.373610630224417,
           6.481323190735668,
           6.589603239002111
          ],
          [
           6.898041922389953,
           7.016276262117885,
           7.135131034144602,
           7.254603963995939,
           7.374692731093352,
           7.495394968893662,
           7.616708265415576,
           7.7386301641031885,
           7.861158164978983,
           7.9842897260418555,
           8.108022264868861
          ],
          [
           9.275314427400936,
           9.411988844648816,
           9.549286633505803,
           9.687215342087901,
           9.825781739884523,
           9.964991854992226,
           10.10485101183255,
           10.245363868865395,
           10.386534455907942,
           10.52836621075227,
           10.670862014844221
          ],
          [
           11.158618753549549,
           11.329579987051604,
           11.50126223264441,
           11.673672561331625,
           11.846817198635486,
           12.020701568544327,
           12.195330337557138,
           12.370707458329862,
           12.546836212533885,
           12.723719252626132,
           12.901358642303638
          ],
          [
           17.830408038290976,
           18.0690037069651,
           18.309052941410577,
           18.550535197759416,
           18.793430306281422,
           19.037718470252827,
           19.28338026415143,
           19.530396631239846,
           19.77874888059607,
           20.028418683648596,
           20.279388070270173
          ],
          [
           19.449882711770545,
           19.71671339637028,
           19.985034879841187,
           20.25482605388723,
           20.52606620187778,
           20.7987349968952,
           21.072812499160342,
           21.348279152893326,
           21.625115782665365,
           21.903303589295515,
           22.18282414534343
          ]
         ]
        }
       ],
       "layout": {
        "autosize": false,
        "height": 750,
        "margin": {
         "b": 65,
         "l": 65,
         "r": 50,
         "t": 90
        },
        "scene": {
         "xaxis": {
          "title": {
           "text": "Temperature (K)"
          }
         },
         "yaxis": {
          "title": {
           "text": "Structured Elems"
          }
         },
         "zaxis": {
          "title": {
           "text": "Free Energy (kJ/mol)"
          }
         }
        },
        "template": {
         "data": {
          "bar": [
           {
            "error_x": {
             "color": "#2a3f5f"
            },
            "error_y": {
             "color": "#2a3f5f"
            },
            "marker": {
             "line": {
              "color": "#E5ECF6",
              "width": 0.5
             },
             "pattern": {
              "fillmode": "overlay",
              "size": 10,
              "solidity": 0.2
             }
            },
            "type": "bar"
           }
          ],
          "barpolar": [
           {
            "marker": {
             "line": {
              "color": "#E5ECF6",
              "width": 0.5
             },
             "pattern": {
              "fillmode": "overlay",
              "size": 10,
              "solidity": 0.2
             }
            },
            "type": "barpolar"
           }
          ],
          "carpet": [
           {
            "aaxis": {
             "endlinecolor": "#2a3f5f",
             "gridcolor": "white",
             "linecolor": "white",
             "minorgridcolor": "white",
             "startlinecolor": "#2a3f5f"
            },
            "baxis": {
             "endlinecolor": "#2a3f5f",
             "gridcolor": "white",
             "linecolor": "white",
             "minorgridcolor": "white",
             "startlinecolor": "#2a3f5f"
            },
            "type": "carpet"
           }
          ],
          "choropleth": [
           {
            "colorbar": {
             "outlinewidth": 0,
             "ticks": ""
            },
            "type": "choropleth"
           }
          ],
          "contour": [
           {
            "colorbar": {
             "outlinewidth": 0,
             "ticks": ""
            },
            "colorscale": [
             [
              0,
              "#0d0887"
             ],
             [
              0.1111111111111111,
              "#46039f"
             ],
             [
              0.2222222222222222,
              "#7201a8"
             ],
             [
              0.3333333333333333,
              "#9c179e"
             ],
             [
              0.4444444444444444,
              "#bd3786"
             ],
             [
              0.5555555555555556,
              "#d8576b"
             ],
             [
              0.6666666666666666,
              "#ed7953"
             ],
             [
              0.7777777777777778,
              "#fb9f3a"
             ],
             [
              0.8888888888888888,
              "#fdca26"
             ],
             [
              1,
              "#f0f921"
             ]
            ],
            "type": "contour"
           }
          ],
          "contourcarpet": [
           {
            "colorbar": {
             "outlinewidth": 0,
             "ticks": ""
            },
            "type": "contourcarpet"
           }
          ],
          "heatmap": [
           {
            "colorbar": {
             "outlinewidth": 0,
             "ticks": ""
            },
            "colorscale": [
             [
              0,
              "#0d0887"
             ],
             [
              0.1111111111111111,
              "#46039f"
             ],
             [
              0.2222222222222222,
              "#7201a8"
             ],
             [
              0.3333333333333333,
              "#9c179e"
             ],
             [
              0.4444444444444444,
              "#bd3786"
             ],
             [
              0.5555555555555556,
              "#d8576b"
             ],
             [
              0.6666666666666666,
              "#ed7953"
             ],
             [
              0.7777777777777778,
              "#fb9f3a"
             ],
             [
              0.8888888888888888,
              "#fdca26"
             ],
             [
              1,
              "#f0f921"
             ]
            ],
            "type": "heatmap"
           }
          ],
          "heatmapgl": [
           {
            "colorbar": {
             "outlinewidth": 0,
             "ticks": ""
            },
            "colorscale": [
             [
              0,
              "#0d0887"
             ],
             [
              0.1111111111111111,
              "#46039f"
             ],
             [
              0.2222222222222222,
              "#7201a8"
             ],
             [
              0.3333333333333333,
              "#9c179e"
             ],
             [
              0.4444444444444444,
              "#bd3786"
             ],
             [
              0.5555555555555556,
              "#d8576b"
             ],
             [
              0.6666666666666666,
              "#ed7953"
             ],
             [
              0.7777777777777778,
              "#fb9f3a"
             ],
             [
              0.8888888888888888,
              "#fdca26"
             ],
             [
              1,
              "#f0f921"
             ]
            ],
            "type": "heatmapgl"
           }
          ],
          "histogram": [
           {
            "marker": {
             "pattern": {
              "fillmode": "overlay",
              "size": 10,
              "solidity": 0.2
             }
            },
            "type": "histogram"
           }
          ],
          "histogram2d": [
           {
            "colorbar": {
             "outlinewidth": 0,
             "ticks": ""
            },
            "colorscale": [
             [
              0,
              "#0d0887"
             ],
             [
              0.1111111111111111,
              "#46039f"
             ],
             [
              0.2222222222222222,
              "#7201a8"
             ],
             [
              0.3333333333333333,
              "#9c179e"
             ],
             [
              0.4444444444444444,
              "#bd3786"
             ],
             [
              0.5555555555555556,
              "#d8576b"
             ],
             [
              0.6666666666666666,
              "#ed7953"
             ],
             [
              0.7777777777777778,
              "#fb9f3a"
             ],
             [
              0.8888888888888888,
              "#fdca26"
             ],
             [
              1,
              "#f0f921"
             ]
            ],
            "type": "histogram2d"
           }
          ],
          "histogram2dcontour": [
           {
            "colorbar": {
             "outlinewidth": 0,
             "ticks": ""
            },
            "colorscale": [
             [
              0,
              "#0d0887"
             ],
             [
              0.1111111111111111,
              "#46039f"
             ],
             [
              0.2222222222222222,
              "#7201a8"
             ],
             [
              0.3333333333333333,
              "#9c179e"
             ],
             [
              0.4444444444444444,
              "#bd3786"
             ],
             [
              0.5555555555555556,
              "#d8576b"
             ],
             [
              0.6666666666666666,
              "#ed7953"
             ],
             [
              0.7777777777777778,
              "#fb9f3a"
             ],
             [
              0.8888888888888888,
              "#fdca26"
             ],
             [
              1,
              "#f0f921"
             ]
            ],
            "type": "histogram2dcontour"
           }
          ],
          "mesh3d": [
           {
            "colorbar": {
             "outlinewidth": 0,
             "ticks": ""
            },
            "type": "mesh3d"
           }
          ],
          "parcoords": [
           {
            "line": {
             "colorbar": {
              "outlinewidth": 0,
              "ticks": ""
             }
            },
            "type": "parcoords"
           }
          ],
          "pie": [
           {
            "automargin": true,
            "type": "pie"
           }
          ],
          "scatter": [
           {
            "fillpattern": {
             "fillmode": "overlay",
             "size": 10,
             "solidity": 0.2
            },
            "type": "scatter"
           }
          ],
          "scatter3d": [
           {
            "line": {
             "colorbar": {
              "outlinewidth": 0,
              "ticks": ""
             }
            },
            "marker": {
             "colorbar": {
              "outlinewidth": 0,
              "ticks": ""
             }
            },
            "type": "scatter3d"
           }
          ],
          "scattercarpet": [
           {
            "marker": {
             "colorbar": {
              "outlinewidth": 0,
              "ticks": ""
             }
            },
            "type": "scattercarpet"
           }
          ],
          "scattergeo": [
           {
            "marker": {
             "colorbar": {
              "outlinewidth": 0,
              "ticks": ""
             }
            },
            "type": "scattergeo"
           }
          ],
          "scattergl": [
           {
            "marker": {
             "colorbar": {
              "outlinewidth": 0,
              "ticks": ""
             }
            },
            "type": "scattergl"
           }
          ],
          "scattermapbox": [
           {
            "marker": {
             "colorbar": {
              "outlinewidth": 0,
              "ticks": ""
             }
            },
            "type": "scattermapbox"
           }
          ],
          "scatterpolar": [
           {
            "marker": {
             "colorbar": {
              "outlinewidth": 0,
              "ticks": ""
             }
            },
            "type": "scatterpolar"
           }
          ],
          "scatterpolargl": [
           {
            "marker": {
             "colorbar": {
              "outlinewidth": 0,
              "ticks": ""
             }
            },
            "type": "scatterpolargl"
           }
          ],
          "scatterternary": [
           {
            "marker": {
             "colorbar": {
              "outlinewidth": 0,
              "ticks": ""
             }
            },
            "type": "scatterternary"
           }
          ],
          "surface": [
           {
            "colorbar": {
             "outlinewidth": 0,
             "ticks": ""
            },
            "colorscale": [
             [
              0,
              "#0d0887"
             ],
             [
              0.1111111111111111,
              "#46039f"
             ],
             [
              0.2222222222222222,
              "#7201a8"
             ],
             [
              0.3333333333333333,
              "#9c179e"
             ],
             [
              0.4444444444444444,
              "#bd3786"
             ],
             [
              0.5555555555555556,
              "#d8576b"
             ],
             [
              0.6666666666666666,
              "#ed7953"
             ],
             [
              0.7777777777777778,
              "#fb9f3a"
             ],
             [
              0.8888888888888888,
              "#fdca26"
             ],
             [
              1,
              "#f0f921"
             ]
            ],
            "type": "surface"
           }
          ],
          "table": [
           {
            "cells": {
             "fill": {
              "color": "#EBF0F8"
             },
             "line": {
              "color": "white"
             }
            },
            "header": {
             "fill": {
              "color": "#C8D4E3"
             },
             "line": {
              "color": "white"
             }
            },
            "type": "table"
           }
          ]
         },
         "layout": {
          "annotationdefaults": {
           "arrowcolor": "#2a3f5f",
           "arrowhead": 0,
           "arrowwidth": 1
          },
          "autotypenumbers": "strict",
          "coloraxis": {
           "colorbar": {
            "outlinewidth": 0,
            "ticks": ""
           }
          },
          "colorscale": {
           "diverging": [
            [
             0,
             "#8e0152"
            ],
            [
             0.1,
             "#c51b7d"
            ],
            [
             0.2,
             "#de77ae"
            ],
            [
             0.3,
             "#f1b6da"
            ],
            [
             0.4,
             "#fde0ef"
            ],
            [
             0.5,
             "#f7f7f7"
            ],
            [
             0.6,
             "#e6f5d0"
            ],
            [
             0.7,
             "#b8e186"
            ],
            [
             0.8,
             "#7fbc41"
            ],
            [
             0.9,
             "#4d9221"
            ],
            [
             1,
             "#276419"
            ]
           ],
           "sequential": [
            [
             0,
             "#0d0887"
            ],
            [
             0.1111111111111111,
             "#46039f"
            ],
            [
             0.2222222222222222,
             "#7201a8"
            ],
            [
             0.3333333333333333,
             "#9c179e"
            ],
            [
             0.4444444444444444,
             "#bd3786"
            ],
            [
             0.5555555555555556,
             "#d8576b"
            ],
            [
             0.6666666666666666,
             "#ed7953"
            ],
            [
             0.7777777777777778,
             "#fb9f3a"
            ],
            [
             0.8888888888888888,
             "#fdca26"
            ],
            [
             1,
             "#f0f921"
            ]
           ],
           "sequentialminus": [
            [
             0,
             "#0d0887"
            ],
            [
             0.1111111111111111,
             "#46039f"
            ],
            [
             0.2222222222222222,
             "#7201a8"
            ],
            [
             0.3333333333333333,
             "#9c179e"
            ],
            [
             0.4444444444444444,
             "#bd3786"
            ],
            [
             0.5555555555555556,
             "#d8576b"
            ],
            [
             0.6666666666666666,
             "#ed7953"
            ],
            [
             0.7777777777777778,
             "#fb9f3a"
            ],
            [
             0.8888888888888888,
             "#fdca26"
            ],
            [
             1,
             "#f0f921"
            ]
           ]
          },
          "colorway": [
           "#636efa",
           "#EF553B",
           "#00cc96",
           "#ab63fa",
           "#FFA15A",
           "#19d3f3",
           "#FF6692",
           "#B6E880",
           "#FF97FF",
           "#FECB52"
          ],
          "font": {
           "color": "#2a3f5f"
          },
          "geo": {
           "bgcolor": "white",
           "lakecolor": "white",
           "landcolor": "#E5ECF6",
           "showlakes": true,
           "showland": true,
           "subunitcolor": "white"
          },
          "hoverlabel": {
           "align": "left"
          },
          "hovermode": "closest",
          "mapbox": {
           "style": "light"
          },
          "paper_bgcolor": "white",
          "plot_bgcolor": "#E5ECF6",
          "polar": {
           "angularaxis": {
            "gridcolor": "white",
            "linecolor": "white",
            "ticks": ""
           },
           "bgcolor": "#E5ECF6",
           "radialaxis": {
            "gridcolor": "white",
            "linecolor": "white",
            "ticks": ""
           }
          },
          "scene": {
           "xaxis": {
            "backgroundcolor": "#E5ECF6",
            "gridcolor": "white",
            "gridwidth": 2,
            "linecolor": "white",
            "showbackground": true,
            "ticks": "",
            "zerolinecolor": "white"
           },
           "yaxis": {
            "backgroundcolor": "#E5ECF6",
            "gridcolor": "white",
            "gridwidth": 2,
            "linecolor": "white",
            "showbackground": true,
            "ticks": "",
            "zerolinecolor": "white"
           },
           "zaxis": {
            "backgroundcolor": "#E5ECF6",
            "gridcolor": "white",
            "gridwidth": 2,
            "linecolor": "white",
            "showbackground": true,
            "ticks": "",
            "zerolinecolor": "white"
           }
          },
          "shapedefaults": {
           "line": {
            "color": "#2a3f5f"
           }
          },
          "ternary": {
           "aaxis": {
            "gridcolor": "white",
            "linecolor": "white",
            "ticks": ""
           },
           "baxis": {
            "gridcolor": "white",
            "linecolor": "white",
            "ticks": ""
           },
           "bgcolor": "#E5ECF6",
           "caxis": {
            "gridcolor": "white",
            "linecolor": "white",
            "ticks": ""
           }
          },
          "title": {
           "x": 0.05
          },
          "xaxis": {
           "automargin": true,
           "gridcolor": "white",
           "linecolor": "white",
           "ticks": "",
           "title": {
            "standoff": 15
           },
           "zerolinecolor": "white",
           "zerolinewidth": 2
          },
          "yaxis": {
           "automargin": true,
           "gridcolor": "white",
           "linecolor": "white",
           "ticks": "",
           "title": {
            "standoff": 15
           },
           "zerolinecolor": "white",
           "zerolinewidth": 2
          }
         }
        },
        "title": {
         "text": "Free Energy Landscape"
        },
        "width": 750
       }
      }
     },
     "metadata": {},
     "output_type": "display_data"
    }
   ],
   "source": [
    "import plotly.graph_objects as go \n",
    "\n",
    "z = g_vecs\n",
    "\n",
    "fig = go.Figure(data=[go.Surface(x=g_vecs.columns, y=np.linspace(1, N_PLANES, N_PLANES), z=z.values)])\n",
    "fig.update_layout(title='Free Energy Landscape',\n",
    "                  scene=dict(xaxis_title='Temperature (K)', yaxis_title='Structured Elems', zaxis_title='Free Energy (kJ/mol)'),\n",
    "                  width=750, height=750, autosize = False,\n",
    "                  margin=dict(l=65, r=50, b=65, t=90)\n",
    "                  )\n",
    "\n"
   ]
  },
  {
   "cell_type": "code",
   "execution_count": 13,
   "metadata": {},
   "outputs": [],
   "source": [
    "#  save g_vecs to a csv file\n",
    "import os\n",
    "\n",
    "os.makedirs('./g_vecs', exist_ok=True)\n",
    "g_vecs.to_csv(f'./g_vecs/{id}_g_vecs.csv', index=False)\n",
    "\n",
    "# master matrix to csv\n",
    "os.makedirs('./master_matrices', exist_ok=True)\n",
    "fin_master_matrix.to_csv(f'./master_matrices/{id}_master_matrix.csv', index=False)\n"
   ]
  },
  {
   "cell_type": "code",
   "execution_count": 14,
   "metadata": {},
   "outputs": [
    {
     "name": "stdout",
     "output_type": "stream",
     "text": [
      "300    4.461320\n",
      "305    4.550402\n",
      "310    4.639914\n",
      "315    4.729852\n",
      "320    4.820210\n",
      "325    4.910984\n",
      "330    5.002169\n",
      "335    5.093761\n",
      "340    5.185754\n",
      "345    5.278145\n",
      "350    5.370929\n",
      "dtype: float64\n",
      "minimum free energy values occur when the number of structured elements interacting are : {9}\n"
     ]
    }
   ],
   "source": [
    "# analysis of free energy values based on the structured elements\n",
    "struct_group = fin_master_matrix.groupby('struct_elem')\n",
    "\n",
    "# get the structured elements with minimum free energy values\n",
    "min_g_vals = g_vecs.min(axis='index')\n",
    "print(min_g_vals)\n",
    "\n",
    "# for each temperature, get the no of structured elements with minimum free energy values\n",
    "min_g_vals_struct_elems = []\n",
    "for temp in g_vecs.columns:\n",
    "    min_g = min_g_vals[temp]\n",
    "    min_g_vals_struct_elems += (g_vecs[temp].index[g_vecs[temp] == min_g].tolist())\n",
    "\n",
    "min_g_vals_struct_elems = set(min_g_vals_struct_elems)\n",
    "print('minimum free energy values occur when the number of structured elements interacting are :', min_g_vals_struct_elems)"
   ]
  },
  {
   "cell_type": "code",
   "execution_count": 15,
   "metadata": {},
   "outputs": [],
   "source": [
    "min_g_vals_groups = struct_group.get_group(min_g_vals_struct_elems.pop())\n",
    "for elem in min_g_vals_struct_elems:\n",
    "    min_g_vals_groups = min_g_vals_groups.append(struct_group.get_group(elem))"
   ]
  },
  {
   "cell_type": "code",
   "execution_count": 16,
   "metadata": {},
   "outputs": [
    {
     "name": "stderr",
     "output_type": "stream",
     "text": [
      "/var/folders/7l/2100442d14j36v6s7s59lflm0000gn/T/ipykernel_36854/3899197965.py:2: SettingWithCopyWarning:\n",
      "\n",
      "\n",
      "A value is trying to be set on a copy of a slice from a DataFrame.\n",
      "Try using .loc[row_indexer,col_indexer] = value instead\n",
      "\n",
      "See the caveats in the documentation: https://pandas.pydata.org/pandas-docs/stable/user_guide/indexing.html#returning-a-view-versus-a-copy\n",
      "\n",
      "/var/folders/7l/2100442d14j36v6s7s59lflm0000gn/T/ipykernel_36854/3899197965.py:3: SettingWithCopyWarning:\n",
      "\n",
      "\n",
      "A value is trying to be set on a copy of a slice from a DataFrame.\n",
      "Try using .loc[row_indexer,col_indexer] = value instead\n",
      "\n",
      "See the caveats in the documentation: https://pandas.pydata.org/pandas-docs/stable/user_guide/indexing.html#returning-a-view-versus-a-copy\n",
      "\n"
     ]
    },
    {
     "data": {
      "image/png": "[encoded data removed]",
      "text/plain": [
       "<Figure size 640x480 with 1 Axes>"
      ]
     },
     "metadata": {},
     "output_type": "display_data"
    }
   ],
   "source": [
    "min_g_val_group_z_total = min_g_vals_groups.sw_part.sum()\n",
    "min_g_vals_groups['partial_z'] = min_g_vals_groups.sw_part/min_g_val_group_z_total\n",
    "min_g_vals_groups['g_part'] = [-R*temp*math.log(i) for i in min_g_vals_groups.partial_z]\n",
    "\n",
    "plt.hist(min_g_vals_groups['g_part'], bins=50)\n",
    "plt.grid()\n",
    "plt.xlabel('free energy (J/mol)')\n",
    "plt.ylabel('frequency')\n",
    "plt.title('Histogram of free energy values for structured elements with minimum free energy values')\n",
    "plt.show()"
   ]
  },
  {
   "cell_type": "code",
   "execution_count": 55,
   "metadata": {},
   "outputs": [
    {
     "data": {
      "image/png": "[encoded data removed]",
      "text/plain": [
       "<Figure size 1500x500 with 3 Axes>"
      ]
     },
     "metadata": {},
     "output_type": "display_data"
    }
   ],
   "source": [
    "def get_struct_elem_list(master_matrix) -> list:\n",
    "    struct_elem_list = []\n",
    "    for i in range(len(master_matrix)):\n",
    "        start1 = int(master_matrix.iloc[i].start1)\n",
    "        end1 = int(master_matrix.iloc[i].end1)\n",
    "        start2 = int(master_matrix.iloc[i].start2)\n",
    "        end2 = int(master_matrix.iloc[i].end2)\n",
    "        comb_type = master_matrix.iloc[i].type\n",
    "        if comb_type == 1:\n",
    "            elems_in_comb = list(range(start1, end1+1))\n",
    "        elif comb_type == 2:\n",
    "            elems_in_comb = list(range(start1, end1+1)) + list(range(start2, end2+1))\n",
    "        struct_elem_list.append(elems_in_comb)\n",
    "\n",
    "    return struct_elem_list\n",
    "\n",
    "# separate ssa entries from the master matrix (type 1)\n",
    "ssa_entries = min_g_vals_groups[min_g_vals_groups.type == 1].reset_index()\n",
    "dsa_entries = min_g_vals_groups[min_g_vals_groups.type == 2].reset_index()\n",
    "total_entries = min_g_vals_groups.reset_index()\n",
    "struct_elem_list = get_struct_elem_list(min_g_vals_groups)\n",
    "# display(struct_elem_list)\n",
    "\n",
    "fig = plt.figure(figsize=(15, 5))\n",
    "ax1 = plt.subplot(1, 3, 1)\n",
    "ax1.plot(ssa_entries.g_part)\n",
    "plt.ylabel('free energy (J/mol)')\n",
    "plt.title('Free energy values for ssa structured elements')\n",
    "plt.xlabel('Combination index')\n",
    "\n",
    "ax2 = plt.subplot(1, 3, 2)\n",
    "ax2.plot(dsa_entries.g_part)\n",
    "plt.ylabel('free energy (J/mol)')\n",
    "plt.title('Free energy values for dsa structured elements')\n",
    "plt.xlabel('Combination index')\n",
    "\n",
    "ax3 = plt.subplot(1, 3, 3)\n",
    "ax3.plot(total_entries.g_part)\n",
    "plt.ylabel('free energy (J/mol)')\n",
    "plt.title(\"Free energy values for all structured elements\")\n",
    "plt.xlabel('Combination index')\n",
    "plt.show()"
   ]
  },
  {
   "cell_type": "code",
   "execution_count": null,
   "metadata": {},
   "outputs": [
    {
     "name": "stdout",
     "output_type": "stream",
     "text": [
      "Error: 4.733165431326071e-29\n",
      "4.733165431326071e-29\n"
     ]
    },
    {
     "data": {
      "image/png": "[encoded data removed]",
      "text/plain": [
       "<Figure size 640x480 with 1 Axes>"
      ]
     },
     "metadata": {},
     "output_type": "display_data"
    }
   ],
   "source": [
    "from sklearn.tree import DecisionTreeRegressor\n",
    "\n",
    "def create_comb_mat(struct_elem_list, N_PLANES) -> np.array:\n",
    "    n = len(struct_elem_list)\n",
    "    comb_mat = np.zeros((n, N_PLANES+1))\n",
    "    for i in range(n):\n",
    "        for elem in struct_elem_list[i]:\n",
    "            comb_mat[i][elem] = 1\n",
    "    return comb_mat\n",
    "\n",
    "comb_mat = create_comb_mat(struct_elem_list, N_PLANES)\n",
    "# print(comb_mat)\n",
    "\n",
    "def solve_for_weights(comb_mat, g_part) -> np.array:\n",
    "    np.random.seed(0)\n",
    "    model = DecisionTreeRegressor(max_depth=15)\n",
    "    model.fit(comb_mat, g_part)\n",
    "    \n",
    "    # error calculation\n",
    "    error = np.sum(np.square(g_part - model.predict(comb_mat)))\n",
    "    weights = model.feature_importances_\n",
    "    residuals = error\n",
    "    print(f'Error: {error}')\n",
    "\n",
    "    return weights, residuals\n",
    "\n",
    "weights, residuals = solve_for_weights(comb_mat, min_g_vals_groups.g_part)\n",
    "print(residuals)\n",
    "\n",
    "def plot_weights(weights, id, save = False):\n",
    "    plt.plot(weights)\n",
    "    plt.xlabel('structured element')\n",
    "    plt.ylabel('weights')\n",
    "    plt.title(f'Weights for PDB ID: {id}')\n",
    "    plt.grid()\n",
    "    if save:\n",
    "        plt.savefig(f'../plots/weights_{id}.jpg')\n",
    "    plt.show()\n",
    "\n",
    "plot_weights(weights, id, save = False)"
   ]
  },
  {
   "cell_type": "code",
   "execution_count": 383,
   "metadata": {},
   "outputs": [],
   "source": [
    "def generate_distribution(min_g_vals_groups, z_planes):\n",
    "    arr_dist = []\n",
    "    for group in min_g_vals_groups:\n",
    "        order_arr = np.zeros(len(z_planes)+1).astype(int)\n",
    "        for row in group.iterrows():\n",
    "            s1 = int(row[1].start1)\n",
    "            e1 = int(row[1].end1)\n",
    "            s2 = int(row[1].start2)\n",
    "            e2 = int(row[1].end2)\n",
    "\n",
    "            if row[1].type == 1:\n",
    "                i = s1\n",
    "                while i <= e1:\n",
    "                    order_arr[i] += 1\n",
    "                    i += 1\n",
    "            \n",
    "            if row[1].type == 2:\n",
    "                i = s1\n",
    "                while i <= e1:\n",
    "                    order_arr[i] += 1\n",
    "                    i += 1\n",
    "                i = s2\n",
    "                while i <= e2:\n",
    "                    order_arr[i] += 1\n",
    "                    i += 1\n",
    "    \n",
    "        arr_dist.append(order_arr)\n",
    "    \n",
    "    return arr_dist"
   ]
  },
  {
   "cell_type": "code",
   "execution_count": 384,
   "metadata": {},
   "outputs": [
    {
     "data": {
      "text/plain": [
       "Text(0.5, 1.0, 'Distribution of interacting blocks in groups with minimum free energy values')"
      ]
     },
     "execution_count": 384,
     "metadata": {},
     "output_type": "execute_result"
    },
    {
     "data": {
      "image/png": "[encoded data removed]",
      "text/plain": [
       "<Figure size 640x480 with 1 Axes>"
      ]
     },
     "metadata": {},
     "output_type": "display_data"
    }
   ],
   "source": [
    "#  generate the distribution of interacting blocks\n",
    "arr_dist = generate_distribution(min_g_vals_groups, z_planes)\n",
    "plt.figure()\n",
    "for arr in arr_dist:\n",
    "    plt.plot(arr)\n",
    "plt.xlabel('Blocks')\n",
    "plt.ylabel('Frequency')\n",
    "plt.title('Distribution of interacting blocks in groups with minimum free energy values')"
   ]
  },
  {
   "cell_type": "code",
   "execution_count": 385,
   "metadata": {},
   "outputs": [],
   "source": [
    "'''\n",
    "Finding the occurrence of each interacting block in the groups with minimum free energy values\n",
    "This will give a good idea of the favourably interacting blocks. \n",
    "'''\n",
    "for group in min_g_vals_groups:\n",
    "    int_blocks = []\n",
    "    for row in group.iterrows():\n",
    "        row = row[1].astype(int)\n",
    "        seq1 = list(range(row.start1, row.end1+1))\n",
    "        seq2 = list(range(row.start2, row.end2+1))\n",
    "        if len(seq1) != (row.struct_elem +1) and len(seq2) != (row.struct_elem + 1):\n",
    "            int_blocks += [seq1, seq2]\n",
    "        else:\n",
    "            if len(seq1) == row.struct_elem + 1:\n",
    "                int_blocks += [seq1]\n",
    "            else:\n",
    "                int_blocks += [seq2]\n",
    "        # print(int_blocks)\n",
    "\n",
    "freq = np.zeros(len(z_planes)+1).astype(int)\n",
    "\n",
    "for block in int_blocks:\n",
    "    for elem in block:\n",
    "        freq[elem] += 1"
   ]
  },
  {
   "cell_type": "code",
   "execution_count": null,
   "metadata": {},
   "outputs": [
    {
     "name": "stdout",
     "output_type": "stream",
     "text": [
      "For Electrostatic interactions: \n",
      "Residues frequently observed to be interacting in the lowest energy state in chain 1 dict_keys([180, 184, 186, 394, 400, 477, 401, 668, 672, 676, 475, 667, 680, 684, 693, 698, 398, 446, 673, 677, 694, 664, 648, 655, 659, 707, 752, 755])\n",
      "Residues frequently observed to be interacting in the lowest energy state in chain 2 dict_keys([655, 648, 757, 752, 755, 659, 677, 664, 680, 684, 667, 707, 673, 398, 446, 672, 676, 475, 698, 401, 694, 668, 477, 400, 693, 394])\n",
      "-----------------------------------\n",
      "For Van der Waals interactions: \n",
      "Atoms frequently observed to be interacting in the lowest energy state in chain 1 dict_keys([180, 184, 186, 394, 400, 477, 401, 668, 672, 676, 475, 667, 680, 684, 693, 698, 398, 446, 673, 677, 694, 664, 648, 655, 659, 707, 752, 755])\n",
      "Atoms frequently observed to be interacting in the lowest energy state in chain 2 dict_keys([655, 648, 757, 752, 755, 659, 677, 664, 680, 684, 667, 707, 673, 398, 446, 672, 676, 475, 698, 401, 694, 668, 477, 400, 693, 394])\n",
      "-----------------------------------\n"
     ]
    }
   ],
   "source": [
    "freq_dict = {}\n",
    "for i in range(len(freq)):\n",
    "    freq_dict[i] = freq[i]\n",
    "\n",
    "freq_dict = dict(sorted(freq_dict.items(), key=lambda x: x[1], reverse=True))\n",
    "\n",
    "highest_freq_dict = list(freq_dict.items())[:10]\n",
    "\n",
    "def max_freq_residues(highest_freq_dict):\n",
    "    max_freq_residues_ch1 = []\n",
    "    max_freq_residues_ch2 = []\n",
    "\n",
    "    for elem, _ in highest_freq_dict:\n",
    "        block1 = (interchain_intr.loc[interchain_intr.section == elem]).atom1_resnum\n",
    "        block2 = (interchain_intr.loc[interchain_intr.section == elem]).atom2_resnum\n",
    "        if block1.empty or block2.empty:\n",
    "            continue\n",
    "        max_freq_residues_ch1 += list(block1)\n",
    "        max_freq_residues_ch2 += list(block2)\n",
    "\n",
    "    return max_freq_residues_ch1, max_freq_residues_ch2\n",
    "\n",
    "max_freq_residues_elec1, max_freq_residues_elec2 = max_freq_residues(highest_freq_dict)\n",
    "max_freq_residues_vdw1, max_freq_residues_vdw2 = max_freq_residues(highest_freq_dict)\n",
    "\n",
    "#  find frequency of each residue in the interacting blocks with highest frequencies\n",
    "\n",
    "def count_residue_frequencies_elec(max_freq_residues_elec1, max_freq_residues_elec2):\n",
    "    res_freq_elec1 = {}\n",
    "    for res in max_freq_residues_elec1:\n",
    "        if res in res_freq_elec1:\n",
    "            res_freq_elec1[res] += 1\n",
    "        else:\n",
    "            res_freq_elec1[res] = 1\n",
    "\n",
    "    res_freq_elec2 = {}\n",
    "    for res in max_freq_residues_elec2:\n",
    "        if res in res_freq_elec2:\n",
    "            res_freq_elec2[res] += 1\n",
    "        else:\n",
    "            res_freq_elec2[res] = 1\n",
    "\n",
    "    res_freq_elec_sorted1 = dict(sorted(res_freq_elec1.items(), key=lambda x: x[1], reverse=True))\n",
    "    res_freq_elec_sorted2 = dict(sorted(res_freq_elec2.items(), key = lambda x: x[1], reverse = True))\n",
    "    return res_freq_elec1,res_freq_elec2\n",
    "\n",
    "res_freq_elec1, res_freq_elec2 = count_residue_frequencies_elec(max_freq_residues_elec1, max_freq_residues_elec2)\n",
    "\n",
    "print(\"For Electrostatic interactions: \")\n",
    "print(f'Residues frequently observed to be interacting in the lowest energy state in chain 1 {res_freq_elec1.keys()}')\n",
    "print(f'Residues frequently observed to be interacting in the lowest energy state in chain 2 {res_freq_elec2.keys()}')\n",
    "print('-----------------------------------')\n",
    "\n",
    "def count_residue_frequencies_vdw(max_freq_residues_vdw1, max_freq_residues_vdw2):\n",
    "    res_freq_vdw1 = {}\n",
    "    for res in max_freq_residues_vdw1:\n",
    "        if res in res_freq_vdw1:\n",
    "            res_freq_vdw1[res] += 1\n",
    "        else:\n",
    "            res_freq_vdw1[res] = 1\n",
    "\n",
    "    res_freq_vdw2 = {}\n",
    "    for res in max_freq_residues_vdw2:\n",
    "        if res in res_freq_vdw2:\n",
    "            res_freq_vdw2[res] += 1\n",
    "        else:\n",
    "            res_freq_vdw2[res] = 1\n",
    "\n",
    "    # res_freq_vdw_sorted1 = dict(sorted(res_freq_vdw1.items(), key = lambda x: x[1], reverse = True))\n",
    "    # res_freq_vdw_sorted2 = dict(sorted(res_freq_vdw2.items(), key = lambda x: x[1], reverse = True))\n",
    "    return res_freq_vdw1,res_freq_vdw2\n",
    "\n",
    "res_freq_vdw1, res_freq_vdw2 = count_residue_frequencies_vdw(max_freq_residues_vdw1, max_freq_residues_vdw2)\n",
    "\n",
    "print('For Van der Waals interactions: ')\n",
    "print(f'Atoms frequently observed to be interacting in the lowest energy state in chain 1 {res_freq_vdw1.keys()}')\n",
    "print(f'Atoms frequently observed to be interacting in the lowest energy state in chain 2 {res_freq_vdw2.keys()}')\n",
    "print('-----------------------------------')"
   ]
  },
  {
   "cell_type": "code",
   "execution_count": 52,
   "metadata": {},
   "outputs": [
    {
     "ename": "NameError",
     "evalue": "name 'res_freq_vdw1' is not defined",
     "output_type": "error",
     "traceback": [
      "\u001b[0;31m---------------------------------------------------------------------------\u001b[0m",
      "\u001b[0;31mNameError\u001b[0m                                 Traceback (most recent call last)",
      "Cell \u001b[0;32mIn[52], line 1\u001b[0m\n\u001b[0;32m----> 1\u001b[0m plt\u001b[38;5;241m.\u001b[39mbar(\u001b[38;5;28mlist\u001b[39m(res_freq_vdw1\u001b[38;5;241m.\u001b[39mkeys()), \u001b[38;5;28mlist\u001b[39m(res_freq_vdw1\u001b[38;5;241m.\u001b[39mvalues()), color\u001b[38;5;241m=\u001b[39m\u001b[38;5;124m'\u001b[39m\u001b[38;5;124mr\u001b[39m\u001b[38;5;124m'\u001b[39m, label\u001b[38;5;241m=\u001b[39m\u001b[38;5;124m'\u001b[39m\u001b[38;5;124mvdw1\u001b[39m\u001b[38;5;124m'\u001b[39m)\n\u001b[1;32m      2\u001b[0m plt\u001b[38;5;241m.\u001b[39mbar(\u001b[38;5;28mlist\u001b[39m(res_freq_elec1\u001b[38;5;241m.\u001b[39mkeys()), \u001b[38;5;28mlist\u001b[39m(res_freq_elec1\u001b[38;5;241m.\u001b[39mvalues()), color\u001b[38;5;241m=\u001b[39m\u001b[38;5;124m'\u001b[39m\u001b[38;5;124mb\u001b[39m\u001b[38;5;124m'\u001b[39m, label\u001b[38;5;241m=\u001b[39m\u001b[38;5;124m'\u001b[39m\u001b[38;5;124melec1\u001b[39m\u001b[38;5;124m'\u001b[39m)\n\u001b[1;32m      4\u001b[0m plt\u001b[38;5;241m.\u001b[39mtitle(\u001b[38;5;124m'\u001b[39m\u001b[38;5;124mChain 1 high frequency interacting residues\u001b[39m\u001b[38;5;124m'\u001b[39m)\n",
      "\u001b[0;31mNameError\u001b[0m: name 'res_freq_vdw1' is not defined"
     ]
    }
   ],
   "source": [
    "plt.bar(list(res_freq_vdw1.keys()), list(res_freq_vdw1.values()), color='r', label='vdw1')\n",
    "plt.bar(list(res_freq_elec1.keys()), list(res_freq_elec1.values()), color='b', label='elec1')\n",
    "\n",
    "plt.title('Chain 1 high frequency interacting residues')\n",
    "plt.ylabel('Frequency')\n",
    "plt.xlabel('residue numbers')\n",
    "plt.legend()\n",
    "plt.show()\n",
    "\n",
    "plt.bar(list(res_freq_vdw2.keys()), list(res_freq_vdw2.values()), color='r', label='vdw2')\n",
    "plt.bar(list(res_freq_elec2.keys()), list(res_freq_elec2.values()), color='b', label='elec2')\n",
    "\n",
    "plt.title('Chain 2 high frequency interacting residues')\n",
    "plt.ylabel('Frequency')\n",
    "plt.xlabel('residue numbers')\n",
    "plt.legend()\n",
    "plt.show()\n"
   ]
  },
  {
   "cell_type": "code",
   "execution_count": 388,
   "metadata": {},
   "outputs": [],
   "source": [
    "def get_block_g_vals(id, min_g_vals_struct_elems):\n",
    "   master_matrix = pd.read_csv(f'../master_matrix/master_matrix_{id}.csv')\n",
    "   min_FE_macrostate = min_g_vals_struct_elems[0]\n",
    "   min_FE_group = master_matrix.groupby('struct_elem').get_group(min_FE_macrostate)\n",
    "\n",
    "   blockwise_sw = {}\n",
    "   total_sw = 0\n",
    "   TEMP = 300\n",
    "   R = 8.314/1000\n",
    "\n",
    "   for i in range(len(min_FE_group)):\n",
    "      row = min_FE_group.iloc[i]\n",
    "      \n",
    "      s1 = row.start1\n",
    "      s2 = row.start2\n",
    "      e1 = row.end1\n",
    "      e2 = row.end2\n",
    "      arr_type = row.type\n",
    "      sw_part = row.sw_part\n",
    "      total_sw += sw_part\n",
    "\n",
    "      if arr_type == 1:\n",
    "         i = s1\n",
    "         while i <= e1:\n",
    "            if i in blockwise_sw.keys():\n",
    "               blockwise_sw[i] += sw_part\n",
    "            else:\n",
    "               blockwise_sw[i] = sw_part\n",
    "            i+=1\n",
    "      \n",
    "      if arr_type == 2:\n",
    "         i = s1\n",
    "         while i <= e1:\n",
    "            if i in blockwise_sw.keys():\n",
    "               blockwise_sw[i] += sw_part\n",
    "            else:\n",
    "               blockwise_sw[i] = sw_part\n",
    "            i+=1\n",
    "         i = s2\n",
    "         while i <= e2:\n",
    "            if i in blockwise_sw.keys():\n",
    "               blockwise_sw[i] += sw_part\n",
    "            else:\n",
    "               blockwise_sw[i] = sw_part\n",
    "            i+=1\n",
    "\n",
    "   blockwise_g_vals = {}\n",
    "   for i in blockwise_sw.keys():\n",
    "      blockwise_g_vals[i] = -R*TEMP*math.log(blockwise_sw[i] / total_sw)\n",
    "   \n",
    "   blockwise_g_vals = dict(sorted(blockwise_g_vals.items(), key = lambda x: x[0]))\n",
    "   return blockwise_g_vals\n"
   ]
  },
  {
   "cell_type": "code",
   "execution_count": 389,
   "metadata": {},
   "outputs": [],
   "source": [
    "import pandas as pd\n",
    "import numpy as np\n",
    "from collections import defaultdict\n",
    "\n",
    "def get_block_g_vals2(id, min_g_vals_struct_elems):\n",
    "    master_matrix = pd.read_csv(f'../master_matrix/master_matrix_{id}.csv')\n",
    "    min_FE_macrostate = min_g_vals_struct_elems[0]\n",
    "    min_FE_group = master_matrix[master_matrix['struct_elem'] == min_FE_macrostate]\n",
    "\n",
    "    TEMP = 300\n",
    "    R = 8.314/1000\n",
    "    \n",
    "    blockwise_sw = defaultdict(float)\n",
    "    total_sw = 0\n",
    "\n",
    "    for _, row in min_FE_group.iterrows():\n",
    "        sw_part = row['sw_part']\n",
    "        total_sw += sw_part\n",
    "\n",
    "        ranges = [(row['start1'], row['end1'])]\n",
    "        if row['type'] == 2:\n",
    "            ranges.append((row['start2'], row['end2']))\n",
    "\n",
    "        for start, end in ranges:\n",
    "            for i in range(int(start), int(end) + 1):\n",
    "                blockwise_sw[i] += sw_part\n",
    "\n",
    "    log_total_sw = np.log(total_sw)\n",
    "    blockwise_g_vals = {\n",
    "        i: -R * TEMP * (np.log(sw) - log_total_sw)\n",
    "        for i, sw in blockwise_sw.items()\n",
    "    }\n",
    "\n",
    "    return dict(sorted(blockwise_g_vals.items()))\n"
   ]
  },
  {
   "cell_type": "code",
   "execution_count": 390,
   "metadata": {},
   "outputs": [
    {
     "data": {
      "image/png": "[encoded data removed]",
      "text/plain": [
       "<Figure size 640x480 with 1 Axes>"
      ]
     },
     "metadata": {},
     "output_type": "display_data"
    }
   ],
   "source": [
    "block_g_vals = get_block_g_vals2(id, list(min_g_vals_struct_elems))\n",
    "\n",
    "plt.plot(block_g_vals.keys(), block_g_vals.values())    \n",
    "plt.title(f\"G value for each block for PDB: {id}\")\n",
    "plt.xlabel('block number')\n",
    "plt.ylabel('FE (kJ/mol)')\n",
    "plt.savefig(f'blockwise_FE/blockwise_{id}.jpg')\n",
    "plt.show()"
   ]
  },
  {
   "cell_type": "code",
   "execution_count": 391,
   "metadata": {},
   "outputs": [
    {
     "name": "stdout",
     "output_type": "stream",
     "text": [
      "Modified pdb file ../mod_pdb_files/1cx8_mod.pdb\n"
     ]
    }
   ],
   "source": [
    "res_elec_list = list(res_freq_elec1.keys()) + list(res_freq_elec2.keys())\n",
    "res_elec_list = list(set(res_elec_list))\n",
    "\n",
    "res_vdw_list = list(res_freq_vdw1.keys()) + list(res_freq_vdw2.keys())\n",
    "res_vdw_list = list(set(res_vdw_list))\n",
    "\n",
    "res_list = list(set(res_elec_list + res_vdw_list))\n",
    "\n",
    "def make_mod_pdb_file(id):\n",
    "    file = f'{id}.pdb'\n",
    "    with open(file, 'r') as f:\n",
    "        lines = f.readlines()\n",
    "    f.close()\n",
    "\n",
    "    # make a new pdb file with _mod suffix\n",
    "    if not os.path.exists('../mod_pdb_files'):\n",
    "        os.makedirs('../mod_pdb_files', exist_ok=True)\n",
    "    \n",
    "    with open(f'../mod_pdb_files/{id}_mod.pdb', 'w') as f:\n",
    "        for line in lines:\n",
    "            f.write(line)\n",
    "    f.close()\n",
    "\n",
    "    return f'../mod_pdb_files/{id}_mod.pdb'\n",
    "\n",
    "def modify_pdb(res_list, pdb_file_path):\n",
    "\n",
    "    pandaspdb_obj = pandaspdb.PandasPdb()\n",
    "    pandaspdb_obj.read_pdb(pdb_file_path)\n",
    "    df = pandaspdb_obj.df['ATOM']\n",
    "    pdb_id = pdb_file_path.split('/')[-1].split('.')[0]\n",
    "    # generate a dict of the z-range for each section\n",
    "    z_range = {}\n",
    "    for i in range(len(z_planes)-1):\n",
    "        z_range[i] = (z_planes[i], z_planes[i+1])\n",
    "\n",
    "    for row in df.iterrows():\n",
    "        if row[1].residue_number in res_list:\n",
    "            z = row[1].z_coord\n",
    "            for key in z_range.keys():\n",
    "                if z_range[key][0] <= z <= z_range[key][1]:\n",
    "                    if key in block_g_vals.keys():\n",
    "                        df.at[row[0], 'b_factor'] = block_g_vals[key]\n",
    "                    else:\n",
    "                        df.at[row[0], 'b_factor'] = 99.99\n",
    "                    break\n",
    "\n",
    "    if not os.path.exists('../mod_pdb_files'):\n",
    "        os.makedirs('../mod_pdb_files', exist_ok=True)\n",
    "\n",
    "    mod_file_path = f'../mod_pdb_files/{pdb_id}_mod.pdb'\n",
    "\n",
    "    pandaspdb_obj.df['ATOM'] = df\n",
    "    pandaspdb_obj.to_pdb(mod_file_path, records=None)\n",
    "    \n",
    "    return mod_file_path\n",
    "\n",
    "pdb_file_dir = '/Users/aaditmahajan/Documents/year 3/WSME project/workflow/pdb_files'\n",
    "pdb_file_path = modify_pdb(res_list, os.path.join(pdb_file_dir, f'{id}.pdb'))\n",
    "\n",
    "print(f'Modified pdb file {pdb_file_path}')\n"
   ]
  },
  {
   "cell_type": "code",
   "execution_count": null,
   "metadata": {},
   "outputs": [],
   "source": []
  }
 ],
 "metadata": {
  "kernelspec": {
   "display_name": "Python 3",
   "language": "python",
   "name": "python3"
  },
  "language_info": {
   "codemirror_mode": {
    "name": "ipython",
    "version": 3
   },
   "file_extension": ".py",
   "mimetype": "text/x-python",
   "name": "python",
   "nbconvert_exporter": "python",
   "pygments_lexer": "ipython3",
   "version": "3.11.3"
  }
 },
 "nbformat": 4,
 "nbformat_minor": 2
}
